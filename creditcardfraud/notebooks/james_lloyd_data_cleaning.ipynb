{
 "cells": [
  {
   "cell_type": "markdown",
   "metadata": {},
   "source": [
    "# Data cleaning "
   ]
  },
  {
   "cell_type": "markdown",
   "metadata": {},
   "source": [
    "### Reading filtered data set"
   ]
  },
  {
   "cell_type": "code",
   "execution_count": 31,
   "metadata": {},
   "outputs": [],
   "source": [
    "import pandas as pd\n",
    "import numpy as np"
   ]
  },
  {
   "cell_type": "code",
   "execution_count": 32,
   "metadata": {},
   "outputs": [],
   "source": [
    "df = pd.read_csv ('../data/creditcard_v2.csv')"
   ]
  },
  {
   "cell_type": "code",
   "execution_count": 33,
   "metadata": {},
   "outputs": [
    {
     "data": {
      "text/html": [
       "<div>\n",
       "<style scoped>\n",
       "    .dataframe tbody tr th:only-of-type {\n",
       "        vertical-align: middle;\n",
       "    }\n",
       "\n",
       "    .dataframe tbody tr th {\n",
       "        vertical-align: top;\n",
       "    }\n",
       "\n",
       "    .dataframe thead th {\n",
       "        text-align: right;\n",
       "    }\n",
       "</style>\n",
       "<table border=\"1\" class=\"dataframe\">\n",
       "  <thead>\n",
       "    <tr style=\"text-align: right;\">\n",
       "      <th></th>\n",
       "      <th>Time</th>\n",
       "      <th>V1</th>\n",
       "      <th>V2</th>\n",
       "      <th>V3</th>\n",
       "      <th>V4</th>\n",
       "      <th>V5</th>\n",
       "      <th>V6</th>\n",
       "      <th>V7</th>\n",
       "      <th>V8</th>\n",
       "      <th>V9</th>\n",
       "      <th>...</th>\n",
       "      <th>V21</th>\n",
       "      <th>V22</th>\n",
       "      <th>V23</th>\n",
       "      <th>V24</th>\n",
       "      <th>V25</th>\n",
       "      <th>V26</th>\n",
       "      <th>V27</th>\n",
       "      <th>V28</th>\n",
       "      <th>Amount</th>\n",
       "      <th>Class</th>\n",
       "    </tr>\n",
       "  </thead>\n",
       "  <tbody>\n",
       "    <tr>\n",
       "      <th>221510</th>\n",
       "      <td>143076.0</td>\n",
       "      <td>-0.026777</td>\n",
       "      <td>0.898330</td>\n",
       "      <td>-0.309383</td>\n",
       "      <td>-0.609974</td>\n",
       "      <td>0.935770</td>\n",
       "      <td>-1.265027</td>\n",
       "      <td>1.224954</td>\n",
       "      <td>-0.342768</td>\n",
       "      <td>-0.025301</td>\n",
       "      <td>...</td>\n",
       "      <td>0.248436</td>\n",
       "      <td>1.015054</td>\n",
       "      <td>-0.164446</td>\n",
       "      <td>0.057522</td>\n",
       "      <td>-0.729800</td>\n",
       "      <td>0.423567</td>\n",
       "      <td>0.204843</td>\n",
       "      <td>0.268343</td>\n",
       "      <td>11.50</td>\n",
       "      <td>0</td>\n",
       "    </tr>\n",
       "    <tr>\n",
       "      <th>123239</th>\n",
       "      <td>77116.0</td>\n",
       "      <td>-1.221978</td>\n",
       "      <td>-5.509420</td>\n",
       "      <td>-1.364834</td>\n",
       "      <td>-0.122499</td>\n",
       "      <td>-2.850970</td>\n",
       "      <td>-0.361547</td>\n",
       "      <td>0.997227</td>\n",
       "      <td>-0.479045</td>\n",
       "      <td>-2.087052</td>\n",
       "      <td>...</td>\n",
       "      <td>0.688025</td>\n",
       "      <td>-0.759149</td>\n",
       "      <td>-1.288401</td>\n",
       "      <td>0.599196</td>\n",
       "      <td>0.071950</td>\n",
       "      <td>-0.239421</td>\n",
       "      <td>-0.257958</td>\n",
       "      <td>0.241730</td>\n",
       "      <td>1408.75</td>\n",
       "      <td>0</td>\n",
       "    </tr>\n",
       "    <tr>\n",
       "      <th>234179</th>\n",
       "      <td>148389.0</td>\n",
       "      <td>0.044493</td>\n",
       "      <td>0.861139</td>\n",
       "      <td>-2.406577</td>\n",
       "      <td>-1.516339</td>\n",
       "      <td>2.905412</td>\n",
       "      <td>3.001557</td>\n",
       "      <td>-0.021396</td>\n",
       "      <td>1.222323</td>\n",
       "      <td>-0.485722</td>\n",
       "      <td>...</td>\n",
       "      <td>0.324431</td>\n",
       "      <td>0.783173</td>\n",
       "      <td>-0.011830</td>\n",
       "      <td>0.660960</td>\n",
       "      <td>-0.661763</td>\n",
       "      <td>0.532282</td>\n",
       "      <td>-0.026439</td>\n",
       "      <td>0.043499</td>\n",
       "      <td>1.50</td>\n",
       "      <td>0</td>\n",
       "    </tr>\n",
       "    <tr>\n",
       "      <th>209683</th>\n",
       "      <td>138112.0</td>\n",
       "      <td>1.939718</td>\n",
       "      <td>-0.601441</td>\n",
       "      <td>-0.840558</td>\n",
       "      <td>-0.001947</td>\n",
       "      <td>-0.118494</td>\n",
       "      <td>0.455587</td>\n",
       "      <td>-0.634316</td>\n",
       "      <td>0.215074</td>\n",
       "      <td>1.391600</td>\n",
       "      <td>...</td>\n",
       "      <td>-0.139837</td>\n",
       "      <td>-0.380148</td>\n",
       "      <td>0.131194</td>\n",
       "      <td>-1.515046</td>\n",
       "      <td>-0.247049</td>\n",
       "      <td>-0.835897</td>\n",
       "      <td>0.048583</td>\n",
       "      <td>-0.044679</td>\n",
       "      <td>50.00</td>\n",
       "      <td>0</td>\n",
       "    </tr>\n",
       "    <tr>\n",
       "      <th>156296</th>\n",
       "      <td>109545.0</td>\n",
       "      <td>-0.595777</td>\n",
       "      <td>0.883105</td>\n",
       "      <td>2.293802</td>\n",
       "      <td>-0.172475</td>\n",
       "      <td>0.175996</td>\n",
       "      <td>-0.176340</td>\n",
       "      <td>0.498141</td>\n",
       "      <td>-0.264382</td>\n",
       "      <td>1.632006</td>\n",
       "      <td>...</td>\n",
       "      <td>-0.302497</td>\n",
       "      <td>-0.460923</td>\n",
       "      <td>-0.319898</td>\n",
       "      <td>-0.280394</td>\n",
       "      <td>0.247600</td>\n",
       "      <td>-0.727202</td>\n",
       "      <td>-0.214285</td>\n",
       "      <td>-0.146006</td>\n",
       "      <td>2.12</td>\n",
       "      <td>0</td>\n",
       "    </tr>\n",
       "  </tbody>\n",
       "</table>\n",
       "<p>5 rows × 31 columns</p>\n",
       "</div>"
      ],
      "text/plain": [
       "            Time        V1        V2        V3        V4        V5        V6  \\\n",
       "221510  143076.0 -0.026777  0.898330 -0.309383 -0.609974  0.935770 -1.265027   \n",
       "123239   77116.0 -1.221978 -5.509420 -1.364834 -0.122499 -2.850970 -0.361547   \n",
       "234179  148389.0  0.044493  0.861139 -2.406577 -1.516339  2.905412  3.001557   \n",
       "209683  138112.0  1.939718 -0.601441 -0.840558 -0.001947 -0.118494  0.455587   \n",
       "156296  109545.0 -0.595777  0.883105  2.293802 -0.172475  0.175996 -0.176340   \n",
       "\n",
       "              V7        V8        V9  ...       V21       V22       V23  \\\n",
       "221510  1.224954 -0.342768 -0.025301  ...  0.248436  1.015054 -0.164446   \n",
       "123239  0.997227 -0.479045 -2.087052  ...  0.688025 -0.759149 -1.288401   \n",
       "234179 -0.021396  1.222323 -0.485722  ...  0.324431  0.783173 -0.011830   \n",
       "209683 -0.634316  0.215074  1.391600  ... -0.139837 -0.380148  0.131194   \n",
       "156296  0.498141 -0.264382  1.632006  ... -0.302497 -0.460923 -0.319898   \n",
       "\n",
       "             V24       V25       V26       V27       V28   Amount  Class  \n",
       "221510  0.057522 -0.729800  0.423567  0.204843  0.268343    11.50      0  \n",
       "123239  0.599196  0.071950 -0.239421 -0.257958  0.241730  1408.75      0  \n",
       "234179  0.660960 -0.661763  0.532282 -0.026439  0.043499     1.50      0  \n",
       "209683 -1.515046 -0.247049 -0.835897  0.048583 -0.044679    50.00      0  \n",
       "156296 -0.280394  0.247600 -0.727202 -0.214285 -0.146006     2.12      0  \n",
       "\n",
       "[5 rows x 31 columns]"
      ]
     },
     "execution_count": 33,
     "metadata": {},
     "output_type": "execute_result"
    }
   ],
   "source": [
    "df.sample (5)"
   ]
  },
  {
   "cell_type": "markdown",
   "metadata": {},
   "source": [
    "### Logic: Remove non-informative outliers using the 6 std dev\n",
    "##### Non-informative we've defined as a domain of variables that does not contain examples of fraud. Variables outside the range will be removed, unless it contains fraud examples. In that case, the cut-off is moved to include the largest observed instance of fraud"
   ]
  },
  {
   "cell_type": "code",
   "execution_count": 34,
   "metadata": {},
   "outputs": [],
   "source": [
    "df_fraud = df [df.Class == 1]"
   ]
  },
  {
   "cell_type": "code",
   "execution_count": 35,
   "metadata": {},
   "outputs": [],
   "source": [
    "def calculate_bounds (v):\n",
    "    iqr = v.quantile (0.75) - v.quantile (0.25)\n",
    "    \n",
    "    return [v.quantile (0.25) - (3 * iqr), v.quantile (0.75) + (3 * iqr)]"
   ]
  },
  {
   "cell_type": "code",
   "execution_count": 36,
   "metadata": {},
   "outputs": [],
   "source": [
    "ranges = []\n",
    "\n",
    "for i in range (1,29):\n",
    "    bounds_data = calculate_bounds (df ['V' + str (i)])\n",
    "    bounds_fraud = [min (df_fraud ['V' + str (i)]), max (df_fraud ['V' + str (i)])]\n",
    "    \n",
    "    lb = min (bounds_data [0], bounds_fraud [0])\n",
    "    ub = max (bounds_data [1], bounds_fraud [1])\n",
    "    ranges.append ([lb, ub])"
   ]
  },
  {
   "cell_type": "code",
   "execution_count": 37,
   "metadata": {},
   "outputs": [
    {
     "data": {
      "text/plain": [
       "(283296, 31)"
      ]
     },
     "execution_count": 37,
     "metadata": {},
     "output_type": "execute_result"
    }
   ],
   "source": [
    "df.shape"
   ]
  },
  {
   "cell_type": "code",
   "execution_count": 38,
   "metadata": {},
   "outputs": [],
   "source": [
    "for i in range (1,29):\n",
    "    df = df [df ['V'+ str (i)].apply (lambda x : ((x > ranges [i - 1] [0]) & (x < ranges [i - 1] [1])))]"
   ]
  },
  {
   "cell_type": "code",
   "execution_count": 39,
   "metadata": {},
   "outputs": [
    {
     "data": {
      "text/plain": [
       "(279071, 31)"
      ]
     },
     "execution_count": 39,
     "metadata": {},
     "output_type": "execute_result"
    }
   ],
   "source": [
    "df.shape"
   ]
  },
  {
   "cell_type": "code",
   "execution_count": null,
   "metadata": {},
   "outputs": [],
   "source": []
  }
 ],
 "metadata": {
  "kernelspec": {
   "display_name": "Python 3",
   "language": "python",
   "name": "python3"
  },
  "language_info": {
   "codemirror_mode": {
    "name": "ipython",
    "version": 3
   },
   "file_extension": ".py",
   "mimetype": "text/x-python",
   "name": "python",
   "nbconvert_exporter": "python",
   "pygments_lexer": "ipython3",
   "version": "3.7.1"
  }
 },
 "nbformat": 4,
 "nbformat_minor": 2
}
