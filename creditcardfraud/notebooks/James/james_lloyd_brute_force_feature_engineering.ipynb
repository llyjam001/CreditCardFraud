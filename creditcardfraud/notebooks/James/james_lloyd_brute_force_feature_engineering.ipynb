{
 "cells": [
  {
   "cell_type": "markdown",
   "metadata": {},
   "source": [
    "# Experimenting with brute force engineering with most important variables"
   ]
  },
  {
   "cell_type": "markdown",
   "metadata": {},
   "source": [
    "## Most important variables were:"
   ]
  },
  {
   "cell_type": "markdown",
   "metadata": {},
   "source": [
    "#### Logistic Regression: V14, V12, V4, V17, V10, V8, V11, V16, V3, V1, V7, V18, V25\n",
    "#### Random Forest: 'V17', 'V10', 'V12', 'V14', 'V16', 'V11', 'V9', 'V4', 'V18', 'V7','V26', 'V20'\n",
    "#### Random Forest SMOTE: 'V10', 'V14', 'V12', 'V11', 'V17', 'V4', 'V16', 'V7', 'V18', 'V9', V20', 'V26'"
   ]
  },
  {
   "cell_type": "code",
   "execution_count": 17,
   "metadata": {},
   "outputs": [],
   "source": [
    "import pandas as pd\n",
    "from sklearn.ensemble import RandomForestClassifier\n",
    "from sklearn.model_selection import train_test_split"
   ]
  },
  {
   "cell_type": "code",
   "execution_count": 2,
   "metadata": {},
   "outputs": [],
   "source": [
    "df = pd.read_csv ('../../data/creditcard_v2.csv')"
   ]
  },
  {
   "cell_type": "code",
   "execution_count": 3,
   "metadata": {},
   "outputs": [],
   "source": [
    "most_important_variables = ['V10', 'V14', 'V12', 'V17', 'V16', 'V11', 'V7', 'V18', 'V4', 'V9']"
   ]
  },
  {
   "cell_type": "code",
   "execution_count": 4,
   "metadata": {},
   "outputs": [],
   "source": [
    "df_most_important = df [most_important_variables]"
   ]
  },
  {
   "cell_type": "code",
   "execution_count": 5,
   "metadata": {},
   "outputs": [],
   "source": [
    "df_features = df_most_important.copy (deep = True)"
   ]
  },
  {
   "cell_type": "code",
   "execution_count": 6,
   "metadata": {},
   "outputs": [],
   "source": [
    "def ratios (df):\n",
    "    for i in most_important_variables:\n",
    "        for j in most_important_variables:\n",
    "            if i==j:\n",
    "                continue\n",
    "            df [i + '/' + j] = df [i].div (df [j])\n",
    "    return df"
   ]
  },
  {
   "cell_type": "code",
   "execution_count": 7,
   "metadata": {},
   "outputs": [],
   "source": [
    "df_features = ratios (df_features)"
   ]
  },
  {
   "cell_type": "code",
   "execution_count": 8,
   "metadata": {},
   "outputs": [
    {
     "data": {
      "text/plain": [
       "(283296, 100)"
      ]
     },
     "execution_count": 8,
     "metadata": {},
     "output_type": "execute_result"
    }
   ],
   "source": [
    "df_features.shape"
   ]
  },
  {
   "cell_type": "code",
   "execution_count": 10,
   "metadata": {},
   "outputs": [
    {
     "data": {
      "text/html": [
       "<div>\n",
       "<style scoped>\n",
       "    .dataframe tbody tr th:only-of-type {\n",
       "        vertical-align: middle;\n",
       "    }\n",
       "\n",
       "    .dataframe tbody tr th {\n",
       "        vertical-align: top;\n",
       "    }\n",
       "\n",
       "    .dataframe thead th {\n",
       "        text-align: right;\n",
       "    }\n",
       "</style>\n",
       "<table border=\"1\" class=\"dataframe\">\n",
       "  <thead>\n",
       "    <tr style=\"text-align: right;\">\n",
       "      <th></th>\n",
       "      <th>V10</th>\n",
       "      <th>V14</th>\n",
       "      <th>V12</th>\n",
       "      <th>V17</th>\n",
       "      <th>V16</th>\n",
       "      <th>V11</th>\n",
       "      <th>V7</th>\n",
       "      <th>V18</th>\n",
       "      <th>V4</th>\n",
       "      <th>V9</th>\n",
       "      <th>...</th>\n",
       "      <th>V4/V9</th>\n",
       "      <th>V9/V10</th>\n",
       "      <th>V9/V14</th>\n",
       "      <th>V9/V12</th>\n",
       "      <th>V9/V17</th>\n",
       "      <th>V9/V16</th>\n",
       "      <th>V9/V11</th>\n",
       "      <th>V9/V7</th>\n",
       "      <th>V9/V18</th>\n",
       "      <th>V9/V4</th>\n",
       "    </tr>\n",
       "  </thead>\n",
       "  <tbody>\n",
       "    <tr>\n",
       "      <th>229257</th>\n",
       "      <td>1.566889</td>\n",
       "      <td>-0.963503</td>\n",
       "      <td>-0.238949</td>\n",
       "      <td>-0.503161</td>\n",
       "      <td>-0.401793</td>\n",
       "      <td>-2.304551</td>\n",
       "      <td>0.579912</td>\n",
       "      <td>-0.554500</td>\n",
       "      <td>-0.147333</td>\n",
       "      <td>1.856433</td>\n",
       "      <td>...</td>\n",
       "      <td>-0.079363</td>\n",
       "      <td>1.184789</td>\n",
       "      <td>-1.926754</td>\n",
       "      <td>-7.769163</td>\n",
       "      <td>-3.689538</td>\n",
       "      <td>-4.620370</td>\n",
       "      <td>-0.805551</td>\n",
       "      <td>3.201231</td>\n",
       "      <td>-3.347938</td>\n",
       "      <td>-12.600260</td>\n",
       "    </tr>\n",
       "    <tr>\n",
       "      <th>169126</th>\n",
       "      <td>1.785092</td>\n",
       "      <td>0.023116</td>\n",
       "      <td>-1.423778</td>\n",
       "      <td>1.179105</td>\n",
       "      <td>-1.265111</td>\n",
       "      <td>0.229429</td>\n",
       "      <td>-1.037076</td>\n",
       "      <td>1.211691</td>\n",
       "      <td>-0.952455</td>\n",
       "      <td>-2.247304</td>\n",
       "      <td>...</td>\n",
       "      <td>0.423821</td>\n",
       "      <td>-1.258929</td>\n",
       "      <td>-97.218021</td>\n",
       "      <td>1.578409</td>\n",
       "      <td>-1.905940</td>\n",
       "      <td>1.776369</td>\n",
       "      <td>-9.795223</td>\n",
       "      <td>2.166961</td>\n",
       "      <td>-1.854684</td>\n",
       "      <td>2.359486</td>\n",
       "    </tr>\n",
       "    <tr>\n",
       "      <th>258977</th>\n",
       "      <td>1.072765</td>\n",
       "      <td>0.460964</td>\n",
       "      <td>-0.275629</td>\n",
       "      <td>0.160675</td>\n",
       "      <td>0.960424</td>\n",
       "      <td>1.409102</td>\n",
       "      <td>-0.446445</td>\n",
       "      <td>-0.868039</td>\n",
       "      <td>-0.831591</td>\n",
       "      <td>-0.680666</td>\n",
       "      <td>...</td>\n",
       "      <td>1.221731</td>\n",
       "      <td>-0.634497</td>\n",
       "      <td>-1.476615</td>\n",
       "      <td>2.469500</td>\n",
       "      <td>-4.236303</td>\n",
       "      <td>-0.708714</td>\n",
       "      <td>-0.483050</td>\n",
       "      <td>1.524636</td>\n",
       "      <td>0.784143</td>\n",
       "      <td>0.818511</td>\n",
       "    </tr>\n",
       "    <tr>\n",
       "      <th>22890</th>\n",
       "      <td>-0.100070</td>\n",
       "      <td>0.253189</td>\n",
       "      <td>-0.138911</td>\n",
       "      <td>0.192352</td>\n",
       "      <td>-0.567901</td>\n",
       "      <td>-1.034504</td>\n",
       "      <td>0.008190</td>\n",
       "      <td>-0.731103</td>\n",
       "      <td>1.329371</td>\n",
       "      <td>0.470640</td>\n",
       "      <td>...</td>\n",
       "      <td>2.824603</td>\n",
       "      <td>-4.703110</td>\n",
       "      <td>1.858848</td>\n",
       "      <td>-3.388057</td>\n",
       "      <td>2.446764</td>\n",
       "      <td>-0.828735</td>\n",
       "      <td>-0.454942</td>\n",
       "      <td>57.464226</td>\n",
       "      <td>-0.643739</td>\n",
       "      <td>0.354032</td>\n",
       "    </tr>\n",
       "    <tr>\n",
       "      <th>186993</th>\n",
       "      <td>-0.553186</td>\n",
       "      <td>-1.292063</td>\n",
       "      <td>0.429937</td>\n",
       "      <td>0.290073</td>\n",
       "      <td>0.269856</td>\n",
       "      <td>-0.515136</td>\n",
       "      <td>1.016864</td>\n",
       "      <td>-0.349438</td>\n",
       "      <td>-0.604071</td>\n",
       "      <td>-0.007615</td>\n",
       "      <td>...</td>\n",
       "      <td>79.330271</td>\n",
       "      <td>0.013765</td>\n",
       "      <td>0.005893</td>\n",
       "      <td>-0.017711</td>\n",
       "      <td>-0.026251</td>\n",
       "      <td>-0.028217</td>\n",
       "      <td>0.014782</td>\n",
       "      <td>-0.007488</td>\n",
       "      <td>0.021791</td>\n",
       "      <td>0.012606</td>\n",
       "    </tr>\n",
       "  </tbody>\n",
       "</table>\n",
       "<p>5 rows × 100 columns</p>\n",
       "</div>"
      ],
      "text/plain": [
       "             V10       V14       V12       V17       V16       V11        V7  \\\n",
       "229257  1.566889 -0.963503 -0.238949 -0.503161 -0.401793 -2.304551  0.579912   \n",
       "169126  1.785092  0.023116 -1.423778  1.179105 -1.265111  0.229429 -1.037076   \n",
       "258977  1.072765  0.460964 -0.275629  0.160675  0.960424  1.409102 -0.446445   \n",
       "22890  -0.100070  0.253189 -0.138911  0.192352 -0.567901 -1.034504  0.008190   \n",
       "186993 -0.553186 -1.292063  0.429937  0.290073  0.269856 -0.515136  1.016864   \n",
       "\n",
       "             V18        V4        V9  ...      V4/V9    V9/V10     V9/V14  \\\n",
       "229257 -0.554500 -0.147333  1.856433  ...  -0.079363  1.184789  -1.926754   \n",
       "169126  1.211691 -0.952455 -2.247304  ...   0.423821 -1.258929 -97.218021   \n",
       "258977 -0.868039 -0.831591 -0.680666  ...   1.221731 -0.634497  -1.476615   \n",
       "22890  -0.731103  1.329371  0.470640  ...   2.824603 -4.703110   1.858848   \n",
       "186993 -0.349438 -0.604071 -0.007615  ...  79.330271  0.013765   0.005893   \n",
       "\n",
       "          V9/V12    V9/V17    V9/V16    V9/V11      V9/V7    V9/V18      V9/V4  \n",
       "229257 -7.769163 -3.689538 -4.620370 -0.805551   3.201231 -3.347938 -12.600260  \n",
       "169126  1.578409 -1.905940  1.776369 -9.795223   2.166961 -1.854684   2.359486  \n",
       "258977  2.469500 -4.236303 -0.708714 -0.483050   1.524636  0.784143   0.818511  \n",
       "22890  -3.388057  2.446764 -0.828735 -0.454942  57.464226 -0.643739   0.354032  \n",
       "186993 -0.017711 -0.026251 -0.028217  0.014782  -0.007488  0.021791   0.012606  \n",
       "\n",
       "[5 rows x 100 columns]"
      ]
     },
     "execution_count": 10,
     "metadata": {},
     "output_type": "execute_result"
    }
   ],
   "source": [
    "df_features.sample (5)"
   ]
  },
  {
   "cell_type": "code",
   "execution_count": 54,
   "metadata": {},
   "outputs": [
    {
     "data": {
      "text/plain": [
       "(100,)"
      ]
     },
     "execution_count": 54,
     "metadata": {},
     "output_type": "execute_result"
    }
   ],
   "source": []
  },
  {
   "cell_type": "code",
   "execution_count": 11,
   "metadata": {},
   "outputs": [],
   "source": [
    "rf = RandomForestClassifier ()"
   ]
  },
  {
   "cell_type": "code",
   "execution_count": 55,
   "metadata": {},
   "outputs": [],
   "source": [
    "X_train, X_test, y_train, y_test = train_test_split (df, df.Class, \n",
    "                                                    stratify = df.Class,\n",
    "                                                    test_size = 0.25,\n",
    "                                                    random_state = 0)\n",
    "\n",
    "rf = RandomForestClassifier ()\n",
    "model = rf.fit (X_train, y_train)"
   ]
  },
  {
   "cell_type": "code",
   "execution_count": 56,
   "metadata": {},
   "outputs": [],
   "source": [
    "X_train_i, X_test_i, y_train_i, y_test_i = train_test_split (df_most_important, df.Class, \n",
    "                                                    stratify = df.Class,\n",
    "                                                    test_size = 0.25,\n",
    "                                                    random_state = 0)\n",
    "\n",
    "rf = RandomForestClassifier ()\n",
    "model_important = rf.fit (X_train_i, y_train_i)"
   ]
  },
  {
   "cell_type": "code",
   "execution_count": 57,
   "metadata": {},
   "outputs": [],
   "source": [
    "X_train_b, X_test_b, y_train_b, y_test_b = train_test_split (df_features, df.Class, \n",
    "                                                    stratify = df.Class,\n",
    "                                                    test_size = 0.25,\n",
    "                                                    random_state = 0)\n",
    "\n",
    "rf = RandomForestClassifier ()\n",
    "model_all_features = rf.fit (X_train_b, y_train_b)"
   ]
  },
  {
   "cell_type": "code",
   "execution_count": 13,
   "metadata": {},
   "outputs": [],
   "source": [
    "from sklearn.metrics import precision_score, recall_score"
   ]
  },
  {
   "cell_type": "markdown",
   "metadata": {},
   "source": [
    "## Normal dataset"
   ]
  },
  {
   "cell_type": "code",
   "execution_count": 58,
   "metadata": {},
   "outputs": [
    {
     "data": {
      "text/plain": [
       "1.0"
      ]
     },
     "execution_count": 58,
     "metadata": {},
     "output_type": "execute_result"
    }
   ],
   "source": [
    "precision_score (y_test, model.predict (X_test))"
   ]
  },
  {
   "cell_type": "code",
   "execution_count": 59,
   "metadata": {},
   "outputs": [
    {
     "data": {
      "text/plain": [
       "1.0"
      ]
     },
     "execution_count": 59,
     "metadata": {},
     "output_type": "execute_result"
    }
   ],
   "source": [
    "recall_score (y_test, model.predict (X_test))"
   ]
  },
  {
   "cell_type": "markdown",
   "metadata": {},
   "source": [
    "## Brute force"
   ]
  },
  {
   "cell_type": "code",
   "execution_count": 60,
   "metadata": {},
   "outputs": [
    {
     "data": {
      "text/plain": [
       "0.9090909090909091"
      ]
     },
     "execution_count": 60,
     "metadata": {},
     "output_type": "execute_result"
    }
   ],
   "source": [
    "precision_score (y_test_b, model_all_features.predict (X_test_b))"
   ]
  },
  {
   "cell_type": "code",
   "execution_count": 61,
   "metadata": {},
   "outputs": [
    {
     "data": {
      "text/plain": [
       "0.7317073170731707"
      ]
     },
     "execution_count": 61,
     "metadata": {},
     "output_type": "execute_result"
    }
   ],
   "source": [
    "recall_score (y_test_b, model_all_features.predict (X_test_b))"
   ]
  },
  {
   "cell_type": "markdown",
   "metadata": {},
   "source": [
    "## Most important"
   ]
  },
  {
   "cell_type": "code",
   "execution_count": 62,
   "metadata": {},
   "outputs": [
    {
     "data": {
      "text/plain": [
       "0.9223300970873787"
      ]
     },
     "execution_count": 62,
     "metadata": {},
     "output_type": "execute_result"
    }
   ],
   "source": [
    "precision_score (y_test_i, model_important.predict (X_test_i))"
   ]
  },
  {
   "cell_type": "code",
   "execution_count": 63,
   "metadata": {},
   "outputs": [
    {
     "data": {
      "text/plain": [
       "0.7723577235772358"
      ]
     },
     "execution_count": 63,
     "metadata": {},
     "output_type": "execute_result"
    }
   ],
   "source": [
    "recall_score (y_test_i, model_important.predict (X_test_i))"
   ]
  },
  {
   "cell_type": "markdown",
   "metadata": {},
   "source": [
    "### Exploring variable importance"
   ]
  },
  {
   "cell_type": "code",
   "execution_count": 28,
   "metadata": {},
   "outputs": [],
   "source": [
    "variable_coefficient = (\n",
    "    pd.DataFrame (\n",
    "        [df_most_important.columns, abs (model_important.feature_importances_)])\n",
    "    .transpose ()\n",
    "    .sort_values (by = 1, ascending = False))"
   ]
  },
  {
   "cell_type": "code",
   "execution_count": 29,
   "metadata": {},
   "outputs": [
    {
     "data": {
      "text/html": [
       "<div>\n",
       "<style scoped>\n",
       "    .dataframe tbody tr th:only-of-type {\n",
       "        vertical-align: middle;\n",
       "    }\n",
       "\n",
       "    .dataframe tbody tr th {\n",
       "        vertical-align: top;\n",
       "    }\n",
       "\n",
       "    .dataframe thead th {\n",
       "        text-align: right;\n",
       "    }\n",
       "</style>\n",
       "<table border=\"1\" class=\"dataframe\">\n",
       "  <thead>\n",
       "    <tr style=\"text-align: right;\">\n",
       "      <th></th>\n",
       "      <th>0</th>\n",
       "      <th>1</th>\n",
       "    </tr>\n",
       "  </thead>\n",
       "  <tbody>\n",
       "    <tr>\n",
       "      <th>0</th>\n",
       "      <td>V17</td>\n",
       "      <td>0.222552</td>\n",
       "    </tr>\n",
       "    <tr>\n",
       "      <th>1</th>\n",
       "      <td>V12</td>\n",
       "      <td>0.198274</td>\n",
       "    </tr>\n",
       "    <tr>\n",
       "      <th>2</th>\n",
       "      <td>V14</td>\n",
       "      <td>0.148295</td>\n",
       "    </tr>\n",
       "    <tr>\n",
       "      <th>3</th>\n",
       "      <td>V10</td>\n",
       "      <td>0.130022</td>\n",
       "    </tr>\n",
       "    <tr>\n",
       "      <th>4</th>\n",
       "      <td>V16</td>\n",
       "      <td>0.066594</td>\n",
       "    </tr>\n",
       "    <tr>\n",
       "      <th>5</th>\n",
       "      <td>V11</td>\n",
       "      <td>0.064038</td>\n",
       "    </tr>\n",
       "    <tr>\n",
       "      <th>6</th>\n",
       "      <td>V4</td>\n",
       "      <td>0.0466989</td>\n",
       "    </tr>\n",
       "    <tr>\n",
       "      <th>7</th>\n",
       "      <td>V7</td>\n",
       "      <td>0.0442519</td>\n",
       "    </tr>\n",
       "    <tr>\n",
       "      <th>8</th>\n",
       "      <td>V9</td>\n",
       "      <td>0.0423089</td>\n",
       "    </tr>\n",
       "    <tr>\n",
       "      <th>9</th>\n",
       "      <td>V18</td>\n",
       "      <td>0.0369653</td>\n",
       "    </tr>\n",
       "  </tbody>\n",
       "</table>\n",
       "</div>"
      ],
      "text/plain": [
       "     0          1\n",
       "0  V17   0.222552\n",
       "1  V12   0.198274\n",
       "2  V14   0.148295\n",
       "3  V10   0.130022\n",
       "4  V16   0.066594\n",
       "5  V11   0.064038\n",
       "6   V4  0.0466989\n",
       "7   V7  0.0442519\n",
       "8   V9  0.0423089\n",
       "9  V18  0.0369653"
      ]
     },
     "execution_count": 29,
     "metadata": {},
     "output_type": "execute_result"
    }
   ],
   "source": [
    "variable_coefficient.head (20).reset_index(drop = True)"
   ]
  },
  {
   "cell_type": "code",
   "execution_count": null,
   "metadata": {},
   "outputs": [],
   "source": []
  },
  {
   "cell_type": "code",
   "execution_count": null,
   "metadata": {},
   "outputs": [],
   "source": []
  },
  {
   "cell_type": "code",
   "execution_count": null,
   "metadata": {},
   "outputs": [],
   "source": [
    "df_features.hist (figsize = (16,20), bins = 50, xlabelsize=8, ylabelsize=8);"
   ]
  },
  {
   "cell_type": "code",
   "execution_count": null,
   "metadata": {},
   "outputs": [],
   "source": []
  }
 ],
 "metadata": {
  "kernelspec": {
   "display_name": "Python 3",
   "language": "python",
   "name": "python3"
  },
  "language_info": {
   "codemirror_mode": {
    "name": "ipython",
    "version": 3
   },
   "file_extension": ".py",
   "mimetype": "text/x-python",
   "name": "python",
   "nbconvert_exporter": "python",
   "pygments_lexer": "ipython3",
   "version": "3.7.1"
  }
 },
 "nbformat": 4,
 "nbformat_minor": 2
}
