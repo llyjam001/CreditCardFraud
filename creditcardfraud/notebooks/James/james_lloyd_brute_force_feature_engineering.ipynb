{
 "cells": [
  {
   "cell_type": "markdown",
   "metadata": {},
   "source": [
    "# Experimenting with brute force engineering with most important variables"
   ]
  },
  {
   "cell_type": "markdown",
   "metadata": {},
   "source": [
    "## Most important variables were:"
   ]
  },
  {
   "cell_type": "markdown",
   "metadata": {},
   "source": [
    "#### Logistic Regression: V14, V12, V4, V17, V10, V8, V11, V16, V3, V1, V7, V18, V25\n",
    "#### Random Forest: 'V17', 'V10', 'V12', 'V14', 'V16', 'V11', 'V9', 'V4', 'V18', 'V7','V26', 'V20'\n",
    "#### Random Forest SMOTE: 'V10', 'V14', 'V12', 'V11', 'V17', 'V4', 'V16', 'V7', 'V18', 'V9', V20', 'V26'"
   ]
  },
  {
   "cell_type": "code",
   "execution_count": 3,
   "metadata": {},
   "outputs": [],
   "source": [
    "import pandas as pd\n",
    "from sklearn.ensemble import RandomForestClassifier\n",
    "from sklearn.model_selection import train_test_split\n",
    "from sklearn.metrics import precision_score, recall_score\n",
    "from sklearn.linear_model import LogisticRegression\n",
    "from sklearn.preprocessing import scale\n",
    "\n",
    "from sklearn.ensemble import "
   ]
  },
  {
   "cell_type": "code",
   "execution_count": 4,
   "metadata": {},
   "outputs": [],
   "source": [
    "df = pd.read_csv ('../../data/creditcard_v2.csv')"
   ]
  },
  {
   "cell_type": "code",
   "execution_count": 4,
   "metadata": {},
   "outputs": [],
   "source": [
    "most_important_variables = ['V10', 'V14', 'V12', 'V17', 'V16', 'V11', 'V7', 'V18', 'V4', 'V9']"
   ]
  },
  {
   "cell_type": "code",
   "execution_count": 5,
   "metadata": {},
   "outputs": [],
   "source": [
    "df_most_important = df [most_important_variables]"
   ]
  },
  {
   "cell_type": "code",
   "execution_count": 6,
   "metadata": {},
   "outputs": [],
   "source": [
    "df_features = df_most_important.copy (deep = True)"
   ]
  },
  {
   "cell_type": "code",
   "execution_count": 7,
   "metadata": {},
   "outputs": [],
   "source": [
    "def ratios (df):\n",
    "    for i in most_important_variables:\n",
    "        for j in most_important_variables:\n",
    "            if i==j:\n",
    "                continue\n",
    "            df [i + '/' + j] = df [i].div (df [j])\n",
    "    return df"
   ]
  },
  {
   "cell_type": "code",
   "execution_count": 8,
   "metadata": {},
   "outputs": [],
   "source": [
    "df_features = ratios (df_features)"
   ]
  },
  {
   "cell_type": "code",
   "execution_count": 9,
   "metadata": {},
   "outputs": [
    {
     "data": {
      "text/plain": [
       "(283296, 100)"
      ]
     },
     "execution_count": 9,
     "metadata": {},
     "output_type": "execute_result"
    }
   ],
   "source": [
    "df_features.shape"
   ]
  },
  {
   "cell_type": "code",
   "execution_count": 10,
   "metadata": {},
   "outputs": [
    {
     "data": {
      "text/html": [
       "<div>\n",
       "<style scoped>\n",
       "    .dataframe tbody tr th:only-of-type {\n",
       "        vertical-align: middle;\n",
       "    }\n",
       "\n",
       "    .dataframe tbody tr th {\n",
       "        vertical-align: top;\n",
       "    }\n",
       "\n",
       "    .dataframe thead th {\n",
       "        text-align: right;\n",
       "    }\n",
       "</style>\n",
       "<table border=\"1\" class=\"dataframe\">\n",
       "  <thead>\n",
       "    <tr style=\"text-align: right;\">\n",
       "      <th></th>\n",
       "      <th>V10</th>\n",
       "      <th>V14</th>\n",
       "      <th>V12</th>\n",
       "      <th>V17</th>\n",
       "      <th>V16</th>\n",
       "      <th>V11</th>\n",
       "      <th>V7</th>\n",
       "      <th>V18</th>\n",
       "      <th>V4</th>\n",
       "      <th>V9</th>\n",
       "      <th>...</th>\n",
       "      <th>V4/V9</th>\n",
       "      <th>V9/V10</th>\n",
       "      <th>V9/V14</th>\n",
       "      <th>V9/V12</th>\n",
       "      <th>V9/V17</th>\n",
       "      <th>V9/V16</th>\n",
       "      <th>V9/V11</th>\n",
       "      <th>V9/V7</th>\n",
       "      <th>V9/V18</th>\n",
       "      <th>V9/V4</th>\n",
       "    </tr>\n",
       "  </thead>\n",
       "  <tbody>\n",
       "    <tr>\n",
       "      <th>124895</th>\n",
       "      <td>0.824313</td>\n",
       "      <td>0.119421</td>\n",
       "      <td>0.687174</td>\n",
       "      <td>0.172855</td>\n",
       "      <td>0.815039</td>\n",
       "      <td>1.828417</td>\n",
       "      <td>-0.053814</td>\n",
       "      <td>-1.298957</td>\n",
       "      <td>-0.732063</td>\n",
       "      <td>-1.582069</td>\n",
       "      <td>...</td>\n",
       "      <td>0.462725</td>\n",
       "      <td>-1.919256</td>\n",
       "      <td>-13.247806</td>\n",
       "      <td>-2.302282</td>\n",
       "      <td>-9.152585</td>\n",
       "      <td>-1.941097</td>\n",
       "      <td>-0.865267</td>\n",
       "      <td>29.398810</td>\n",
       "      <td>1.217953</td>\n",
       "      <td>2.161109</td>\n",
       "    </tr>\n",
       "    <tr>\n",
       "      <th>136387</th>\n",
       "      <td>-0.544505</td>\n",
       "      <td>-0.566145</td>\n",
       "      <td>0.540670</td>\n",
       "      <td>-1.397901</td>\n",
       "      <td>1.382370</td>\n",
       "      <td>-0.669353</td>\n",
       "      <td>-1.526801</td>\n",
       "      <td>0.231780</td>\n",
       "      <td>-0.460150</td>\n",
       "      <td>0.724459</td>\n",
       "      <td>...</td>\n",
       "      <td>-0.635163</td>\n",
       "      <td>-1.330491</td>\n",
       "      <td>-1.279635</td>\n",
       "      <td>1.339927</td>\n",
       "      <td>-0.518248</td>\n",
       "      <td>0.524071</td>\n",
       "      <td>-1.082328</td>\n",
       "      <td>-0.474495</td>\n",
       "      <td>3.125629</td>\n",
       "      <td>-1.574399</td>\n",
       "    </tr>\n",
       "    <tr>\n",
       "      <th>164798</th>\n",
       "      <td>1.544187</td>\n",
       "      <td>-0.352972</td>\n",
       "      <td>-0.701267</td>\n",
       "      <td>0.353939</td>\n",
       "      <td>-0.512046</td>\n",
       "      <td>-0.241406</td>\n",
       "      <td>-1.818990</td>\n",
       "      <td>-0.114607</td>\n",
       "      <td>-2.546052</td>\n",
       "      <td>-1.207364</td>\n",
       "      <td>...</td>\n",
       "      <td>2.108770</td>\n",
       "      <td>-0.781876</td>\n",
       "      <td>3.420567</td>\n",
       "      <td>1.721690</td>\n",
       "      <td>-3.411218</td>\n",
       "      <td>2.357921</td>\n",
       "      <td>5.001380</td>\n",
       "      <td>0.663755</td>\n",
       "      <td>10.534859</td>\n",
       "      <td>0.474210</td>\n",
       "    </tr>\n",
       "    <tr>\n",
       "      <th>58348</th>\n",
       "      <td>-1.491888</td>\n",
       "      <td>0.431343</td>\n",
       "      <td>-0.299771</td>\n",
       "      <td>-0.216223</td>\n",
       "      <td>-0.457570</td>\n",
       "      <td>-0.430187</td>\n",
       "      <td>0.502158</td>\n",
       "      <td>-0.136243</td>\n",
       "      <td>-1.964919</td>\n",
       "      <td>1.055673</td>\n",
       "      <td>...</td>\n",
       "      <td>-1.861296</td>\n",
       "      <td>-0.707608</td>\n",
       "      <td>2.447407</td>\n",
       "      <td>-3.521598</td>\n",
       "      <td>-4.882326</td>\n",
       "      <td>-2.307128</td>\n",
       "      <td>-2.453988</td>\n",
       "      <td>2.102274</td>\n",
       "      <td>-7.748466</td>\n",
       "      <td>-0.537260</td>\n",
       "    </tr>\n",
       "    <tr>\n",
       "      <th>254183</th>\n",
       "      <td>-1.347096</td>\n",
       "      <td>-2.130748</td>\n",
       "      <td>0.810523</td>\n",
       "      <td>1.452212</td>\n",
       "      <td>0.093947</td>\n",
       "      <td>-0.245638</td>\n",
       "      <td>1.153092</td>\n",
       "      <td>0.418954</td>\n",
       "      <td>1.188688</td>\n",
       "      <td>0.581255</td>\n",
       "      <td>...</td>\n",
       "      <td>2.045039</td>\n",
       "      <td>-0.431487</td>\n",
       "      <td>-0.272794</td>\n",
       "      <td>0.717135</td>\n",
       "      <td>0.400255</td>\n",
       "      <td>6.187026</td>\n",
       "      <td>-2.366304</td>\n",
       "      <td>0.504083</td>\n",
       "      <td>1.387393</td>\n",
       "      <td>0.488988</td>\n",
       "    </tr>\n",
       "  </tbody>\n",
       "</table>\n",
       "<p>5 rows × 100 columns</p>\n",
       "</div>"
      ],
      "text/plain": [
       "             V10       V14       V12       V17       V16       V11        V7  \\\n",
       "124895  0.824313  0.119421  0.687174  0.172855  0.815039  1.828417 -0.053814   \n",
       "136387 -0.544505 -0.566145  0.540670 -1.397901  1.382370 -0.669353 -1.526801   \n",
       "164798  1.544187 -0.352972 -0.701267  0.353939 -0.512046 -0.241406 -1.818990   \n",
       "58348  -1.491888  0.431343 -0.299771 -0.216223 -0.457570 -0.430187  0.502158   \n",
       "254183 -1.347096 -2.130748  0.810523  1.452212  0.093947 -0.245638  1.153092   \n",
       "\n",
       "             V18        V4        V9  ...     V4/V9    V9/V10     V9/V14  \\\n",
       "124895 -1.298957 -0.732063 -1.582069  ...  0.462725 -1.919256 -13.247806   \n",
       "136387  0.231780 -0.460150  0.724459  ... -0.635163 -1.330491  -1.279635   \n",
       "164798 -0.114607 -2.546052 -1.207364  ...  2.108770 -0.781876   3.420567   \n",
       "58348  -0.136243 -1.964919  1.055673  ... -1.861296 -0.707608   2.447407   \n",
       "254183  0.418954  1.188688  0.581255  ...  2.045039 -0.431487  -0.272794   \n",
       "\n",
       "          V9/V12    V9/V17    V9/V16    V9/V11      V9/V7     V9/V18     V9/V4  \n",
       "124895 -2.302282 -9.152585 -1.941097 -0.865267  29.398810   1.217953  2.161109  \n",
       "136387  1.339927 -0.518248  0.524071 -1.082328  -0.474495   3.125629 -1.574399  \n",
       "164798  1.721690 -3.411218  2.357921  5.001380   0.663755  10.534859  0.474210  \n",
       "58348  -3.521598 -4.882326 -2.307128 -2.453988   2.102274  -7.748466 -0.537260  \n",
       "254183  0.717135  0.400255  6.187026 -2.366304   0.504083   1.387393  0.488988  \n",
       "\n",
       "[5 rows x 100 columns]"
      ]
     },
     "execution_count": 10,
     "metadata": {},
     "output_type": "execute_result"
    }
   ],
   "source": [
    "df_features.sample (5)"
   ]
  },
  {
   "cell_type": "markdown",
   "metadata": {},
   "source": [
    "## Normal dataset"
   ]
  },
  {
   "cell_type": "code",
   "execution_count": 12,
   "metadata": {},
   "outputs": [
    {
     "name": "stdout",
     "output_type": "stream",
     "text": [
      "Precision: 0.9223300970873787, Recall: 0.7723577235772358\n"
     ]
    }
   ],
   "source": [
    "X_train, X_test, y_train, y_test = train_test_split (df.iloc [:, 1: -1], df.Class, \n",
    "                                                    stratify = df.Class,\n",
    "                                                    test_size = 0.25,\n",
    "                                                    random_state = 0)\n",
    "\n",
    "rf_1 = RandomForestClassifier ()\n",
    "model = rf_1.fit (X_train, y_train)\n",
    "\n",
    "print ('Precision: ' + \n",
    "       str (precision_score (y_test, model.predict (X_test))) +\n",
    "       ', Recall: ' +\n",
    "       str (recall_score (y_test, model.predict (X_test))))"
   ]
  },
  {
   "cell_type": "code",
   "execution_count": null,
   "metadata": {},
   "outputs": [],
   "source": [
    "X_train, X_test, y_train, y_test = train_test_split (df.iloc [:, 1: -1], df.Class, \n",
    "                                                    stratify = df.Class,\n",
    "                                                    test_size = 0.25,\n",
    "                                                    random_state = 0)\n",
    "\n",
    "lr_1 = LogisticRegression (max_iter=1000)\n",
    "model = lr_1.fit (X_train, y_train)\n",
    "\n",
    "print ('Precision: ' + \n",
    "       str (precision_score (y_test, model.predict (X_test))) +\n",
    "       ', Recall: ' +\n",
    "       str (recall_score (y_test, model.predict (X_test))))"
   ]
  },
  {
   "cell_type": "markdown",
   "metadata": {},
   "source": [
    "### Normal Scaled"
   ]
  },
  {
   "cell_type": "code",
   "execution_count": 5,
   "metadata": {},
   "outputs": [
    {
     "name": "stdout",
     "output_type": "stream",
     "text": [
      "Precision: 0.9405940594059405, Recall: 0.7723577235772358\n"
     ]
    }
   ],
   "source": [
    "X_train, X_test, y_train, y_test = train_test_split (df.iloc [:, 1: -1], df.Class, \n",
    "                                                    stratify = df.Class,\n",
    "                                                    test_size = 0.25,\n",
    "                                                    random_state = 0)\n",
    "\n",
    "rf_1 = RandomForestClassifier ()\n",
    "model = rf_1.fit (scale (X_train), y_train)\n",
    "\n",
    "print ('Precision: ' + \n",
    "       str (precision_score (y_test, model.predict (scale(X_test)))) +\n",
    "       ', Recall: ' +\n",
    "       str (recall_score (y_test, model.predict (scale (X_test)))))"
   ]
  },
  {
   "cell_type": "code",
   "execution_count": 6,
   "metadata": {},
   "outputs": [
    {
     "name": "stdout",
     "output_type": "stream",
     "text": [
      "Precision: 0.8928571428571429, Recall: 0.6097560975609756\n"
     ]
    }
   ],
   "source": [
    "X_train, X_test, y_train, y_test = train_test_split (df.iloc [:, 1: -1], df.Class, \n",
    "                                                    stratify = df.Class,\n",
    "                                                    test_size = 0.25,\n",
    "                                                    random_state = 0)\n",
    "\n",
    "lr_1 = LogisticRegression (max_iter=1000)\n",
    "model = lr_1.fit (scale (X_train), y_train)\n",
    "\n",
    "print ('Precision: ' + \n",
    "       str (precision_score (y_test, model.predict (scale (X_test)))) +\n",
    "       ', Recall: ' +\n",
    "       str (recall_score (y_test, model.predict (scale (X_test)))))"
   ]
  },
  {
   "cell_type": "markdown",
   "metadata": {},
   "source": [
    "## Most important"
   ]
  },
  {
   "cell_type": "code",
   "execution_count": 12,
   "metadata": {},
   "outputs": [
    {
     "name": "stdout",
     "output_type": "stream",
     "text": [
      "Precision: 0.912621359223301, Recall: 0.7642276422764228\n"
     ]
    }
   ],
   "source": [
    "X_train_i, X_test_i, y_train_i, y_test_i = train_test_split (df_most_important, df.Class, \n",
    "                                                    stratify = df.Class,\n",
    "                                                    test_size = 0.25,\n",
    "                                                    random_state = 0)\n",
    "\n",
    "rf_2 = RandomForestClassifier ()\n",
    "model_important = rf_2.fit (X_train_i, y_train_i)\n",
    "\n",
    "print ('Precision: ' + \n",
    "       str (precision_score (y_test_i, model_important.predict (X_test_i))) +\n",
    "       ', Recall: ' +\n",
    "       str (recall_score (y_test_i, model_important.predict (X_test_i))))"
   ]
  },
  {
   "cell_type": "code",
   "execution_count": 16,
   "metadata": {},
   "outputs": [
    {
     "name": "stdout",
     "output_type": "stream",
     "text": [
      "Precision: 0.8928571428571429, Recall: 0.6097560975609756\n"
     ]
    }
   ],
   "source": [
    "X_train_i, X_test_i, y_train_i, y_test_i = train_test_split (df_most_important, df.Class, \n",
    "                                                    stratify = df.Class,\n",
    "                                                    test_size = 0.25,\n",
    "                                                    random_state = 0)\n",
    "\n",
    "lr_2 = LogisticRegression ()\n",
    "model_important = lr_2.fit (X_train_i, y_train_i)\n",
    "\n",
    "print ('Precision: ' + \n",
    "       str (precision_score (y_test_i, model_important.predict (X_test_i))) +\n",
    "       ', Recall: ' +\n",
    "       str (recall_score (y_test_i, model_important.predict (X_test_i))))"
   ]
  },
  {
   "cell_type": "markdown",
   "metadata": {},
   "source": [
    "## Brute force"
   ]
  },
  {
   "cell_type": "code",
   "execution_count": 13,
   "metadata": {},
   "outputs": [
    {
     "name": "stdout",
     "output_type": "stream",
     "text": [
      "Precision: 0.9108910891089109, Recall: 0.7479674796747967\n"
     ]
    }
   ],
   "source": [
    "X_train_b, X_test_b, y_train_b, y_test_b = train_test_split (df_features, df.Class, \n",
    "                                                    stratify = df.Class,\n",
    "                                                    test_size = 0.25,\n",
    "                                                    random_state = 0)\n",
    "\n",
    "rf_3 = RandomForestClassifier ()\n",
    "model_all_features = rf_3.fit (X_train_b, y_train_b)\n",
    "\n",
    "print ('Precision: ' + \n",
    "       str (precision_score (y_test_b, model_all_features.predict (X_test_b))) +\n",
    "       ', Recall: ' +\n",
    "       str (recall_score (y_test_b, model_all_features.predict (X_test_b))))"
   ]
  },
  {
   "cell_type": "code",
   "execution_count": 21,
   "metadata": {},
   "outputs": [
    {
     "name": "stdout",
     "output_type": "stream",
     "text": [
      "Precision: 0.8351648351648352, Recall: 0.6178861788617886\n"
     ]
    }
   ],
   "source": [
    "X_train_b, X_test_b, y_train_b, y_test_b = train_test_split (df_features, df.Class, \n",
    "                                                    stratify = df.Class,\n",
    "                                                    test_size = 0.25,\n",
    "                                                    random_state = 0)\n",
    "\n",
    "lr_3 = LogisticRegression (max_iter=1000000, tol=0.00001)\n",
    "model_all_features = lr_3.fit (X_train_b, y_train_b)\n",
    "\n",
    "print ('Precision: ' + \n",
    "       str (precision_score (y_test_b, model_all_features.predict (X_test_b))) +\n",
    "       ', Recall: ' +\n",
    "       str (recall_score (y_test_b, model_all_features.predict (X_test_b))))"
   ]
  },
  {
   "cell_type": "markdown",
   "metadata": {},
   "source": [
    "### Exploring variable importance"
   ]
  },
  {
   "cell_type": "code",
   "execution_count": 28,
   "metadata": {},
   "outputs": [],
   "source": [
    "variable_coefficient = (\n",
    "    pd.DataFrame (\n",
    "        [df_most_important.columns, abs (model_important.feature_importances_)])\n",
    "    .transpose ()\n",
    "    .sort_values (by = 1, ascending = False))"
   ]
  },
  {
   "cell_type": "code",
   "execution_count": 29,
   "metadata": {},
   "outputs": [
    {
     "data": {
      "text/html": [
       "<div>\n",
       "<style scoped>\n",
       "    .dataframe tbody tr th:only-of-type {\n",
       "        vertical-align: middle;\n",
       "    }\n",
       "\n",
       "    .dataframe tbody tr th {\n",
       "        vertical-align: top;\n",
       "    }\n",
       "\n",
       "    .dataframe thead th {\n",
       "        text-align: right;\n",
       "    }\n",
       "</style>\n",
       "<table border=\"1\" class=\"dataframe\">\n",
       "  <thead>\n",
       "    <tr style=\"text-align: right;\">\n",
       "      <th></th>\n",
       "      <th>0</th>\n",
       "      <th>1</th>\n",
       "    </tr>\n",
       "  </thead>\n",
       "  <tbody>\n",
       "    <tr>\n",
       "      <th>0</th>\n",
       "      <td>V17</td>\n",
       "      <td>0.222552</td>\n",
       "    </tr>\n",
       "    <tr>\n",
       "      <th>1</th>\n",
       "      <td>V12</td>\n",
       "      <td>0.198274</td>\n",
       "    </tr>\n",
       "    <tr>\n",
       "      <th>2</th>\n",
       "      <td>V14</td>\n",
       "      <td>0.148295</td>\n",
       "    </tr>\n",
       "    <tr>\n",
       "      <th>3</th>\n",
       "      <td>V10</td>\n",
       "      <td>0.130022</td>\n",
       "    </tr>\n",
       "    <tr>\n",
       "      <th>4</th>\n",
       "      <td>V16</td>\n",
       "      <td>0.066594</td>\n",
       "    </tr>\n",
       "    <tr>\n",
       "      <th>5</th>\n",
       "      <td>V11</td>\n",
       "      <td>0.064038</td>\n",
       "    </tr>\n",
       "    <tr>\n",
       "      <th>6</th>\n",
       "      <td>V4</td>\n",
       "      <td>0.0466989</td>\n",
       "    </tr>\n",
       "    <tr>\n",
       "      <th>7</th>\n",
       "      <td>V7</td>\n",
       "      <td>0.0442519</td>\n",
       "    </tr>\n",
       "    <tr>\n",
       "      <th>8</th>\n",
       "      <td>V9</td>\n",
       "      <td>0.0423089</td>\n",
       "    </tr>\n",
       "    <tr>\n",
       "      <th>9</th>\n",
       "      <td>V18</td>\n",
       "      <td>0.0369653</td>\n",
       "    </tr>\n",
       "  </tbody>\n",
       "</table>\n",
       "</div>"
      ],
      "text/plain": [
       "     0          1\n",
       "0  V17   0.222552\n",
       "1  V12   0.198274\n",
       "2  V14   0.148295\n",
       "3  V10   0.130022\n",
       "4  V16   0.066594\n",
       "5  V11   0.064038\n",
       "6   V4  0.0466989\n",
       "7   V7  0.0442519\n",
       "8   V9  0.0423089\n",
       "9  V18  0.0369653"
      ]
     },
     "execution_count": 29,
     "metadata": {},
     "output_type": "execute_result"
    }
   ],
   "source": [
    "variable_coefficient.head (20).reset_index(drop = True)"
   ]
  },
  {
   "cell_type": "code",
   "execution_count": null,
   "metadata": {},
   "outputs": [],
   "source": [
    "df_features.hist (figsize = (16,20), bins = 50, xlabelsize=8, ylabelsize=8);"
   ]
  },
  {
   "cell_type": "code",
   "execution_count": null,
   "metadata": {},
   "outputs": [],
   "source": []
  }
 ],
 "metadata": {
  "kernelspec": {
   "display_name": "Python 3",
   "language": "python",
   "name": "python3"
  },
  "language_info": {
   "codemirror_mode": {
    "name": "ipython",
    "version": 3
   },
   "file_extension": ".py",
   "mimetype": "text/x-python",
   "name": "python",
   "nbconvert_exporter": "python",
   "pygments_lexer": "ipython3",
   "version": "3.7.1"
  }
 },
 "nbformat": 4,
 "nbformat_minor": 2
}
