{
 "cells": [
  {
   "cell_type": "markdown",
   "metadata": {},
   "source": [
    "# Experimenting with brute force engineering with most important variables"
   ]
  },
  {
   "cell_type": "markdown",
   "metadata": {},
   "source": [
    "## Most important variables were:"
   ]
  },
  {
   "cell_type": "markdown",
   "metadata": {},
   "source": [
    "#### Logistic Regression: V14, V12, V4, V17, V10, V8, V11, V16, V3, V1, V7, V18, V25\n",
    "#### Random Forest: 'V17', 'V10', 'V12', 'V14', 'V16', 'V11', 'V9', 'V4', 'V18', 'V7','V26', 'V20'\n",
    "#### Random Forest SMOTE: 'V10', 'V14', 'V12', 'V11', 'V17', 'V4', 'V16', 'V7', 'V18', 'V9', V20', 'V26'"
   ]
  },
  {
   "cell_type": "code",
   "execution_count": 14,
   "metadata": {},
   "outputs": [],
   "source": [
    "import pandas as pd\n",
    "from sklearn.ensemble import RandomForestClassifier\n",
    "from sklearn.model_selection import train_test_split\n",
    "from sklearn.metrics import precision_score, recall_score\n",
    "from sklearn.linear_model import LogisticRegression"
   ]
  },
  {
   "cell_type": "code",
   "execution_count": 2,
   "metadata": {},
   "outputs": [],
   "source": [
    "df = pd.read_csv ('../../data/creditcard_v2.csv')"
   ]
  },
  {
   "cell_type": "code",
   "execution_count": 3,
   "metadata": {},
   "outputs": [],
   "source": [
    "most_important_variables = ['V10', 'V14', 'V12', 'V17', 'V16', 'V11', 'V7', 'V18', 'V4', 'V9']"
   ]
  },
  {
   "cell_type": "code",
   "execution_count": 4,
   "metadata": {},
   "outputs": [],
   "source": [
    "df_most_important = df [most_important_variables]"
   ]
  },
  {
   "cell_type": "code",
   "execution_count": 5,
   "metadata": {},
   "outputs": [],
   "source": [
    "df_features = df_most_important.copy (deep = True)"
   ]
  },
  {
   "cell_type": "code",
   "execution_count": 6,
   "metadata": {},
   "outputs": [],
   "source": [
    "def ratios (df):\n",
    "    for i in most_important_variables:\n",
    "        for j in most_important_variables:\n",
    "            if i==j:\n",
    "                continue\n",
    "            df [i + '/' + j] = df [i].div (df [j])\n",
    "    return df"
   ]
  },
  {
   "cell_type": "code",
   "execution_count": 7,
   "metadata": {},
   "outputs": [],
   "source": [
    "df_features = ratios (df_features)"
   ]
  },
  {
   "cell_type": "code",
   "execution_count": 8,
   "metadata": {},
   "outputs": [
    {
     "data": {
      "text/plain": [
       "(283296, 100)"
      ]
     },
     "execution_count": 8,
     "metadata": {},
     "output_type": "execute_result"
    }
   ],
   "source": [
    "df_features.shape"
   ]
  },
  {
   "cell_type": "code",
   "execution_count": 9,
   "metadata": {},
   "outputs": [
    {
     "data": {
      "text/html": [
       "<div>\n",
       "<style scoped>\n",
       "    .dataframe tbody tr th:only-of-type {\n",
       "        vertical-align: middle;\n",
       "    }\n",
       "\n",
       "    .dataframe tbody tr th {\n",
       "        vertical-align: top;\n",
       "    }\n",
       "\n",
       "    .dataframe thead th {\n",
       "        text-align: right;\n",
       "    }\n",
       "</style>\n",
       "<table border=\"1\" class=\"dataframe\">\n",
       "  <thead>\n",
       "    <tr style=\"text-align: right;\">\n",
       "      <th></th>\n",
       "      <th>V10</th>\n",
       "      <th>V14</th>\n",
       "      <th>V12</th>\n",
       "      <th>V17</th>\n",
       "      <th>V16</th>\n",
       "      <th>V11</th>\n",
       "      <th>V7</th>\n",
       "      <th>V18</th>\n",
       "      <th>V4</th>\n",
       "      <th>V9</th>\n",
       "      <th>...</th>\n",
       "      <th>V4/V9</th>\n",
       "      <th>V9/V10</th>\n",
       "      <th>V9/V14</th>\n",
       "      <th>V9/V12</th>\n",
       "      <th>V9/V17</th>\n",
       "      <th>V9/V16</th>\n",
       "      <th>V9/V11</th>\n",
       "      <th>V9/V7</th>\n",
       "      <th>V9/V18</th>\n",
       "      <th>V9/V4</th>\n",
       "    </tr>\n",
       "  </thead>\n",
       "  <tbody>\n",
       "    <tr>\n",
       "      <th>130887</th>\n",
       "      <td>0.544606</td>\n",
       "      <td>0.355002</td>\n",
       "      <td>0.728548</td>\n",
       "      <td>0.154798</td>\n",
       "      <td>-1.588680</td>\n",
       "      <td>1.144340</td>\n",
       "      <td>0.383128</td>\n",
       "      <td>1.136460</td>\n",
       "      <td>-0.082578</td>\n",
       "      <td>-1.130659</td>\n",
       "      <td>...</td>\n",
       "      <td>0.073035</td>\n",
       "      <td>-2.076103</td>\n",
       "      <td>-3.184934</td>\n",
       "      <td>-1.551935</td>\n",
       "      <td>-7.304110</td>\n",
       "      <td>0.711697</td>\n",
       "      <td>-0.988044</td>\n",
       "      <td>-2.951128</td>\n",
       "      <td>-0.994896</td>\n",
       "      <td>13.692026</td>\n",
       "    </tr>\n",
       "    <tr>\n",
       "      <th>262237</th>\n",
       "      <td>0.058024</td>\n",
       "      <td>0.227142</td>\n",
       "      <td>0.567615</td>\n",
       "      <td>-0.271546</td>\n",
       "      <td>-0.155027</td>\n",
       "      <td>-0.711245</td>\n",
       "      <td>0.184288</td>\n",
       "      <td>-0.966287</td>\n",
       "      <td>0.389285</td>\n",
       "      <td>0.507263</td>\n",
       "      <td>...</td>\n",
       "      <td>0.767422</td>\n",
       "      <td>8.742342</td>\n",
       "      <td>2.233245</td>\n",
       "      <td>0.893674</td>\n",
       "      <td>-1.868055</td>\n",
       "      <td>-3.272093</td>\n",
       "      <td>-0.713204</td>\n",
       "      <td>2.752553</td>\n",
       "      <td>-0.524961</td>\n",
       "      <td>1.303064</td>\n",
       "    </tr>\n",
       "    <tr>\n",
       "      <th>151093</th>\n",
       "      <td>-1.135690</td>\n",
       "      <td>0.568145</td>\n",
       "      <td>-1.984969</td>\n",
       "      <td>0.935473</td>\n",
       "      <td>-0.335595</td>\n",
       "      <td>1.733924</td>\n",
       "      <td>1.658164</td>\n",
       "      <td>0.811881</td>\n",
       "      <td>-0.849635</td>\n",
       "      <td>0.838119</td>\n",
       "      <td>...</td>\n",
       "      <td>-1.013740</td>\n",
       "      <td>-0.737982</td>\n",
       "      <td>1.475185</td>\n",
       "      <td>-0.422233</td>\n",
       "      <td>0.895931</td>\n",
       "      <td>-2.497410</td>\n",
       "      <td>0.483365</td>\n",
       "      <td>0.505450</td>\n",
       "      <td>1.032317</td>\n",
       "      <td>-0.986446</td>\n",
       "    </tr>\n",
       "    <tr>\n",
       "      <th>101638</th>\n",
       "      <td>-0.912187</td>\n",
       "      <td>0.181554</td>\n",
       "      <td>0.521546</td>\n",
       "      <td>-0.860063</td>\n",
       "      <td>1.228582</td>\n",
       "      <td>-1.337824</td>\n",
       "      <td>-0.410091</td>\n",
       "      <td>-0.357822</td>\n",
       "      <td>-2.202545</td>\n",
       "      <td>-0.021457</td>\n",
       "      <td>...</td>\n",
       "      <td>102.648937</td>\n",
       "      <td>0.023523</td>\n",
       "      <td>-0.118185</td>\n",
       "      <td>-0.041141</td>\n",
       "      <td>0.024948</td>\n",
       "      <td>-0.017465</td>\n",
       "      <td>0.016039</td>\n",
       "      <td>0.052323</td>\n",
       "      <td>0.059966</td>\n",
       "      <td>0.009742</td>\n",
       "    </tr>\n",
       "    <tr>\n",
       "      <th>62378</th>\n",
       "      <td>-1.332940</td>\n",
       "      <td>0.244007</td>\n",
       "      <td>0.031438</td>\n",
       "      <td>-0.189041</td>\n",
       "      <td>0.135662</td>\n",
       "      <td>-2.067198</td>\n",
       "      <td>-1.043374</td>\n",
       "      <td>-0.553731</td>\n",
       "      <td>-0.511147</td>\n",
       "      <td>0.339016</td>\n",
       "      <td>...</td>\n",
       "      <td>-1.507739</td>\n",
       "      <td>-0.254337</td>\n",
       "      <td>1.389371</td>\n",
       "      <td>10.783654</td>\n",
       "      <td>-1.793345</td>\n",
       "      <td>2.498967</td>\n",
       "      <td>-0.163998</td>\n",
       "      <td>-0.324922</td>\n",
       "      <td>-0.612239</td>\n",
       "      <td>-0.663245</td>\n",
       "    </tr>\n",
       "  </tbody>\n",
       "</table>\n",
       "<p>5 rows × 100 columns</p>\n",
       "</div>"
      ],
      "text/plain": [
       "             V10       V14       V12       V17       V16       V11        V7  \\\n",
       "130887  0.544606  0.355002  0.728548  0.154798 -1.588680  1.144340  0.383128   \n",
       "262237  0.058024  0.227142  0.567615 -0.271546 -0.155027 -0.711245  0.184288   \n",
       "151093 -1.135690  0.568145 -1.984969  0.935473 -0.335595  1.733924  1.658164   \n",
       "101638 -0.912187  0.181554  0.521546 -0.860063  1.228582 -1.337824 -0.410091   \n",
       "62378  -1.332940  0.244007  0.031438 -0.189041  0.135662 -2.067198 -1.043374   \n",
       "\n",
       "             V18        V4        V9  ...       V4/V9    V9/V10    V9/V14  \\\n",
       "130887  1.136460 -0.082578 -1.130659  ...    0.073035 -2.076103 -3.184934   \n",
       "262237 -0.966287  0.389285  0.507263  ...    0.767422  8.742342  2.233245   \n",
       "151093  0.811881 -0.849635  0.838119  ...   -1.013740 -0.737982  1.475185   \n",
       "101638 -0.357822 -2.202545 -0.021457  ...  102.648937  0.023523 -0.118185   \n",
       "62378  -0.553731 -0.511147  0.339016  ...   -1.507739 -0.254337  1.389371   \n",
       "\n",
       "           V9/V12    V9/V17    V9/V16    V9/V11     V9/V7    V9/V18      V9/V4  \n",
       "130887  -1.551935 -7.304110  0.711697 -0.988044 -2.951128 -0.994896  13.692026  \n",
       "262237   0.893674 -1.868055 -3.272093 -0.713204  2.752553 -0.524961   1.303064  \n",
       "151093  -0.422233  0.895931 -2.497410  0.483365  0.505450  1.032317  -0.986446  \n",
       "101638  -0.041141  0.024948 -0.017465  0.016039  0.052323  0.059966   0.009742  \n",
       "62378   10.783654 -1.793345  2.498967 -0.163998 -0.324922 -0.612239  -0.663245  \n",
       "\n",
       "[5 rows x 100 columns]"
      ]
     },
     "execution_count": 9,
     "metadata": {},
     "output_type": "execute_result"
    }
   ],
   "source": [
    "df_features.sample (5)"
   ]
  },
  {
   "cell_type": "markdown",
   "metadata": {},
   "source": [
    "## Normal dataset"
   ]
  },
  {
   "cell_type": "code",
   "execution_count": 10,
   "metadata": {},
   "outputs": [
    {
     "name": "stdout",
     "output_type": "stream",
     "text": [
      "Precision: 1.0, Recall: 1.0\n"
     ]
    }
   ],
   "source": [
    "X_train, X_test, y_train, y_test = train_test_split (df, df.Class, \n",
    "                                                    stratify = df.Class,\n",
    "                                                    test_size = 0.25,\n",
    "                                                    random_state = 0)\n",
    "\n",
    "rf_1 = RandomForestClassifier ()\n",
    "model = rf_1.fit (X_train, y_train)\n",
    "\n",
    "print ('Precision: ' + \n",
    "       str (precision_score (y_test, model.predict (X_test))) +\n",
    "       ', Recall: ' +\n",
    "       str (recall_score (y_test, model.predict (X_test))))"
   ]
  },
  {
   "cell_type": "code",
   "execution_count": 18,
   "metadata": {},
   "outputs": [
    {
     "name": "stdout",
     "output_type": "stream",
     "text": [
      "Precision: 0.8681318681318682, Recall: 0.6422764227642277\n"
     ]
    }
   ],
   "source": [
    "X_train, X_test, y_train, y_test = train_test_split (df, df.Class, \n",
    "                                                    stratify = df.Class,\n",
    "                                                    test_size = 0.25,\n",
    "                                                    random_state = 0)\n",
    "\n",
    "lr_1 = LogisticRegression (max_iter=1000)\n",
    "model = lr_1.fit (X_train, y_train)\n",
    "\n",
    "print ('Precision: ' + \n",
    "       str (precision_score (y_test, model.predict (X_test))) +\n",
    "       ', Recall: ' +\n",
    "       str (recall_score (y_test, model.predict (X_test))))"
   ]
  },
  {
   "cell_type": "markdown",
   "metadata": {},
   "source": [
    "## Most important"
   ]
  },
  {
   "cell_type": "code",
   "execution_count": 12,
   "metadata": {},
   "outputs": [
    {
     "name": "stdout",
     "output_type": "stream",
     "text": [
      "Precision: 0.912621359223301, Recall: 0.7642276422764228\n"
     ]
    }
   ],
   "source": [
    "X_train_i, X_test_i, y_train_i, y_test_i = train_test_split (df_most_important, df.Class, \n",
    "                                                    stratify = df.Class,\n",
    "                                                    test_size = 0.25,\n",
    "                                                    random_state = 0)\n",
    "\n",
    "rf_2 = RandomForestClassifier ()\n",
    "model_important = rf_2.fit (X_train_i, y_train_i)\n",
    "\n",
    "print ('Precision: ' + \n",
    "       str (precision_score (y_test_i, model_important.predict (X_test_i))) +\n",
    "       ', Recall: ' +\n",
    "       str (recall_score (y_test_i, model_important.predict (X_test_i))))"
   ]
  },
  {
   "cell_type": "code",
   "execution_count": 16,
   "metadata": {},
   "outputs": [
    {
     "name": "stdout",
     "output_type": "stream",
     "text": [
      "Precision: 0.8928571428571429, Recall: 0.6097560975609756\n"
     ]
    }
   ],
   "source": [
    "X_train_i, X_test_i, y_train_i, y_test_i = train_test_split (df_most_important, df.Class, \n",
    "                                                    stratify = df.Class,\n",
    "                                                    test_size = 0.25,\n",
    "                                                    random_state = 0)\n",
    "\n",
    "lr_2 = LogisticRegression ()\n",
    "model_important = lr_2.fit (X_train_i, y_train_i)\n",
    "\n",
    "print ('Precision: ' + \n",
    "       str (precision_score (y_test_i, model_important.predict (X_test_i))) +\n",
    "       ', Recall: ' +\n",
    "       str (recall_score (y_test_i, model_important.predict (X_test_i))))"
   ]
  },
  {
   "cell_type": "markdown",
   "metadata": {},
   "source": [
    "## Brute force"
   ]
  },
  {
   "cell_type": "code",
   "execution_count": 13,
   "metadata": {},
   "outputs": [
    {
     "name": "stdout",
     "output_type": "stream",
     "text": [
      "Precision: 0.9108910891089109, Recall: 0.7479674796747967\n"
     ]
    }
   ],
   "source": [
    "X_train_b, X_test_b, y_train_b, y_test_b = train_test_split (df_features, df.Class, \n",
    "                                                    stratify = df.Class,\n",
    "                                                    test_size = 0.25,\n",
    "                                                    random_state = 0)\n",
    "\n",
    "rf_3 = RandomForestClassifier ()\n",
    "model_all_features = rf_3.fit (X_train_b, y_train_b)\n",
    "\n",
    "print ('Precision: ' + \n",
    "       str (precision_score (y_test_b, model_all_features.predict (X_test_b))) +\n",
    "       ', Recall: ' +\n",
    "       str (recall_score (y_test_b, model_all_features.predict (X_test_b))))"
   ]
  },
  {
   "cell_type": "code",
   "execution_count": 21,
   "metadata": {},
   "outputs": [
    {
     "name": "stdout",
     "output_type": "stream",
     "text": [
      "Precision: 0.8351648351648352, Recall: 0.6178861788617886\n"
     ]
    }
   ],
   "source": [
    "X_train_b, X_test_b, y_train_b, y_test_b = train_test_split (df_features, df.Class, \n",
    "                                                    stratify = df.Class,\n",
    "                                                    test_size = 0.25,\n",
    "                                                    random_state = 0)\n",
    "\n",
    "lr_3 = LogisticRegression (max_iter=1000000, tol=0.00001)\n",
    "model_all_features = lr_3.fit (X_train_b, y_train_b)\n",
    "\n",
    "print ('Precision: ' + \n",
    "       str (precision_score (y_test_b, model_all_features.predict (X_test_b))) +\n",
    "       ', Recall: ' +\n",
    "       str (recall_score (y_test_b, model_all_features.predict (X_test_b))))"
   ]
  },
  {
   "cell_type": "markdown",
   "metadata": {},
   "source": [
    "### Exploring variable importance"
   ]
  },
  {
   "cell_type": "code",
   "execution_count": 28,
   "metadata": {},
   "outputs": [],
   "source": [
    "variable_coefficient = (\n",
    "    pd.DataFrame (\n",
    "        [df_most_important.columns, abs (model_important.feature_importances_)])\n",
    "    .transpose ()\n",
    "    .sort_values (by = 1, ascending = False))"
   ]
  },
  {
   "cell_type": "code",
   "execution_count": 29,
   "metadata": {},
   "outputs": [
    {
     "data": {
      "text/html": [
       "<div>\n",
       "<style scoped>\n",
       "    .dataframe tbody tr th:only-of-type {\n",
       "        vertical-align: middle;\n",
       "    }\n",
       "\n",
       "    .dataframe tbody tr th {\n",
       "        vertical-align: top;\n",
       "    }\n",
       "\n",
       "    .dataframe thead th {\n",
       "        text-align: right;\n",
       "    }\n",
       "</style>\n",
       "<table border=\"1\" class=\"dataframe\">\n",
       "  <thead>\n",
       "    <tr style=\"text-align: right;\">\n",
       "      <th></th>\n",
       "      <th>0</th>\n",
       "      <th>1</th>\n",
       "    </tr>\n",
       "  </thead>\n",
       "  <tbody>\n",
       "    <tr>\n",
       "      <th>0</th>\n",
       "      <td>V17</td>\n",
       "      <td>0.222552</td>\n",
       "    </tr>\n",
       "    <tr>\n",
       "      <th>1</th>\n",
       "      <td>V12</td>\n",
       "      <td>0.198274</td>\n",
       "    </tr>\n",
       "    <tr>\n",
       "      <th>2</th>\n",
       "      <td>V14</td>\n",
       "      <td>0.148295</td>\n",
       "    </tr>\n",
       "    <tr>\n",
       "      <th>3</th>\n",
       "      <td>V10</td>\n",
       "      <td>0.130022</td>\n",
       "    </tr>\n",
       "    <tr>\n",
       "      <th>4</th>\n",
       "      <td>V16</td>\n",
       "      <td>0.066594</td>\n",
       "    </tr>\n",
       "    <tr>\n",
       "      <th>5</th>\n",
       "      <td>V11</td>\n",
       "      <td>0.064038</td>\n",
       "    </tr>\n",
       "    <tr>\n",
       "      <th>6</th>\n",
       "      <td>V4</td>\n",
       "      <td>0.0466989</td>\n",
       "    </tr>\n",
       "    <tr>\n",
       "      <th>7</th>\n",
       "      <td>V7</td>\n",
       "      <td>0.0442519</td>\n",
       "    </tr>\n",
       "    <tr>\n",
       "      <th>8</th>\n",
       "      <td>V9</td>\n",
       "      <td>0.0423089</td>\n",
       "    </tr>\n",
       "    <tr>\n",
       "      <th>9</th>\n",
       "      <td>V18</td>\n",
       "      <td>0.0369653</td>\n",
       "    </tr>\n",
       "  </tbody>\n",
       "</table>\n",
       "</div>"
      ],
      "text/plain": [
       "     0          1\n",
       "0  V17   0.222552\n",
       "1  V12   0.198274\n",
       "2  V14   0.148295\n",
       "3  V10   0.130022\n",
       "4  V16   0.066594\n",
       "5  V11   0.064038\n",
       "6   V4  0.0466989\n",
       "7   V7  0.0442519\n",
       "8   V9  0.0423089\n",
       "9  V18  0.0369653"
      ]
     },
     "execution_count": 29,
     "metadata": {},
     "output_type": "execute_result"
    }
   ],
   "source": [
    "variable_coefficient.head (20).reset_index(drop = True)"
   ]
  },
  {
   "cell_type": "code",
   "execution_count": null,
   "metadata": {},
   "outputs": [],
   "source": [
    "df_features.hist (figsize = (16,20), bins = 50, xlabelsize=8, ylabelsize=8);"
   ]
  },
  {
   "cell_type": "code",
   "execution_count": null,
   "metadata": {},
   "outputs": [],
   "source": []
  }
 ],
 "metadata": {
  "kernelspec": {
   "display_name": "Python 3",
   "language": "python",
   "name": "python3"
  },
  "language_info": {
   "codemirror_mode": {
    "name": "ipython",
    "version": 3
   },
   "file_extension": ".py",
   "mimetype": "text/x-python",
   "name": "python",
   "nbconvert_exporter": "python",
   "pygments_lexer": "ipython3",
   "version": "3.7.1"
  }
 },
 "nbformat": 4,
 "nbformat_minor": 2
}
