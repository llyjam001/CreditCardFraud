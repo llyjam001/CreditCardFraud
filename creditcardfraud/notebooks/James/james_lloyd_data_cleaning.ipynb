{
 "cells": [
  {
   "cell_type": "markdown",
   "metadata": {},
   "source": [
    "# Data cleaning "
   ]
  },
  {
   "cell_type": "markdown",
   "metadata": {},
   "source": [
    "### Reading filtered data set"
   ]
  },
  {
   "cell_type": "code",
   "execution_count": 1,
   "metadata": {},
   "outputs": [
    {
     "name": "stderr",
     "output_type": "stream",
     "text": [
      "Using TensorFlow backend.\n"
     ]
    }
   ],
   "source": [
    "import pandas as pd\n",
    "import numpy as np\n",
    "from imblearn.over_sampling import SMOTE as smote\n",
    "from sklearn.model_selection import train_test_split"
   ]
  },
  {
   "cell_type": "code",
   "execution_count": 2,
   "metadata": {},
   "outputs": [],
   "source": [
    "df = pd.read_csv ('../../data/creditcard_v2.csv')"
   ]
  },
  {
   "cell_type": "code",
   "execution_count": 8,
   "metadata": {},
   "outputs": [
    {
     "data": {
      "text/html": [
       "<div>\n",
       "<style scoped>\n",
       "    .dataframe tbody tr th:only-of-type {\n",
       "        vertical-align: middle;\n",
       "    }\n",
       "\n",
       "    .dataframe tbody tr th {\n",
       "        vertical-align: top;\n",
       "    }\n",
       "\n",
       "    .dataframe thead th {\n",
       "        text-align: right;\n",
       "    }\n",
       "</style>\n",
       "<table border=\"1\" class=\"dataframe\">\n",
       "  <thead>\n",
       "    <tr style=\"text-align: right;\">\n",
       "      <th></th>\n",
       "      <th>Time</th>\n",
       "      <th>V1</th>\n",
       "      <th>V2</th>\n",
       "      <th>V3</th>\n",
       "      <th>V4</th>\n",
       "      <th>V5</th>\n",
       "      <th>V6</th>\n",
       "      <th>V7</th>\n",
       "      <th>V8</th>\n",
       "      <th>V9</th>\n",
       "      <th>...</th>\n",
       "      <th>V21</th>\n",
       "      <th>V22</th>\n",
       "      <th>V23</th>\n",
       "      <th>V24</th>\n",
       "      <th>V25</th>\n",
       "      <th>V26</th>\n",
       "      <th>V27</th>\n",
       "      <th>V28</th>\n",
       "      <th>Amount</th>\n",
       "      <th>Class</th>\n",
       "    </tr>\n",
       "  </thead>\n",
       "  <tbody>\n",
       "    <tr>\n",
       "      <th>224135</th>\n",
       "      <td>144204.0</td>\n",
       "      <td>1.954576</td>\n",
       "      <td>-0.481934</td>\n",
       "      <td>-0.495271</td>\n",
       "      <td>0.246692</td>\n",
       "      <td>-0.589961</td>\n",
       "      <td>-0.251121</td>\n",
       "      <td>-0.668394</td>\n",
       "      <td>0.105699</td>\n",
       "      <td>1.156155</td>\n",
       "      <td>...</td>\n",
       "      <td>0.238028</td>\n",
       "      <td>0.764191</td>\n",
       "      <td>0.081076</td>\n",
       "      <td>-0.415360</td>\n",
       "      <td>-0.152867</td>\n",
       "      <td>-0.237843</td>\n",
       "      <td>0.021939</td>\n",
       "      <td>-0.050101</td>\n",
       "      <td>19.12</td>\n",
       "      <td>0</td>\n",
       "    </tr>\n",
       "    <tr>\n",
       "      <th>49760</th>\n",
       "      <td>44334.0</td>\n",
       "      <td>-0.422940</td>\n",
       "      <td>1.026647</td>\n",
       "      <td>1.390851</td>\n",
       "      <td>0.100551</td>\n",
       "      <td>0.021996</td>\n",
       "      <td>-0.727213</td>\n",
       "      <td>0.588230</td>\n",
       "      <td>0.079556</td>\n",
       "      <td>-0.330504</td>\n",
       "      <td>...</td>\n",
       "      <td>-0.219542</td>\n",
       "      <td>-0.564270</td>\n",
       "      <td>0.066915</td>\n",
       "      <td>0.332704</td>\n",
       "      <td>-0.295766</td>\n",
       "      <td>0.083343</td>\n",
       "      <td>0.257830</td>\n",
       "      <td>0.097368</td>\n",
       "      <td>3.59</td>\n",
       "      <td>0</td>\n",
       "    </tr>\n",
       "    <tr>\n",
       "      <th>195312</th>\n",
       "      <td>131459.0</td>\n",
       "      <td>-1.868955</td>\n",
       "      <td>0.864992</td>\n",
       "      <td>1.273568</td>\n",
       "      <td>1.167206</td>\n",
       "      <td>-0.799064</td>\n",
       "      <td>0.544424</td>\n",
       "      <td>1.067554</td>\n",
       "      <td>0.096423</td>\n",
       "      <td>0.430538</td>\n",
       "      <td>...</td>\n",
       "      <td>-0.651156</td>\n",
       "      <td>-1.328265</td>\n",
       "      <td>-0.181685</td>\n",
       "      <td>-0.145213</td>\n",
       "      <td>0.324514</td>\n",
       "      <td>-0.837478</td>\n",
       "      <td>-0.285219</td>\n",
       "      <td>-0.190006</td>\n",
       "      <td>185.04</td>\n",
       "      <td>0</td>\n",
       "    </tr>\n",
       "    <tr>\n",
       "      <th>263926</th>\n",
       "      <td>161831.0</td>\n",
       "      <td>0.849057</td>\n",
       "      <td>-1.690140</td>\n",
       "      <td>-2.524388</td>\n",
       "      <td>1.869082</td>\n",
       "      <td>-0.081688</td>\n",
       "      <td>-1.177074</td>\n",
       "      <td>1.643105</td>\n",
       "      <td>-0.677455</td>\n",
       "      <td>-0.040077</td>\n",
       "      <td>...</td>\n",
       "      <td>0.523436</td>\n",
       "      <td>0.288451</td>\n",
       "      <td>-0.634369</td>\n",
       "      <td>0.096669</td>\n",
       "      <td>0.376153</td>\n",
       "      <td>-0.455414</td>\n",
       "      <td>-0.149658</td>\n",
       "      <td>0.041723</td>\n",
       "      <td>633.40</td>\n",
       "      <td>0</td>\n",
       "    </tr>\n",
       "    <tr>\n",
       "      <th>265066</th>\n",
       "      <td>162337.0</td>\n",
       "      <td>1.915875</td>\n",
       "      <td>-1.189403</td>\n",
       "      <td>1.015883</td>\n",
       "      <td>1.164328</td>\n",
       "      <td>-1.845727</td>\n",
       "      <td>0.806549</td>\n",
       "      <td>-1.780862</td>\n",
       "      <td>0.316776</td>\n",
       "      <td>1.182805</td>\n",
       "      <td>...</td>\n",
       "      <td>-0.217060</td>\n",
       "      <td>0.471933</td>\n",
       "      <td>0.185159</td>\n",
       "      <td>0.003131</td>\n",
       "      <td>-0.219307</td>\n",
       "      <td>-0.474606</td>\n",
       "      <td>0.169581</td>\n",
       "      <td>-0.008481</td>\n",
       "      <td>21.70</td>\n",
       "      <td>0</td>\n",
       "    </tr>\n",
       "  </tbody>\n",
       "</table>\n",
       "<p>5 rows × 31 columns</p>\n",
       "</div>"
      ],
      "text/plain": [
       "            Time        V1        V2        V3        V4        V5        V6  \\\n",
       "224135  144204.0  1.954576 -0.481934 -0.495271  0.246692 -0.589961 -0.251121   \n",
       "49760    44334.0 -0.422940  1.026647  1.390851  0.100551  0.021996 -0.727213   \n",
       "195312  131459.0 -1.868955  0.864992  1.273568  1.167206 -0.799064  0.544424   \n",
       "263926  161831.0  0.849057 -1.690140 -2.524388  1.869082 -0.081688 -1.177074   \n",
       "265066  162337.0  1.915875 -1.189403  1.015883  1.164328 -1.845727  0.806549   \n",
       "\n",
       "              V7        V8        V9  ...       V21       V22       V23  \\\n",
       "224135 -0.668394  0.105699  1.156155  ...  0.238028  0.764191  0.081076   \n",
       "49760   0.588230  0.079556 -0.330504  ... -0.219542 -0.564270  0.066915   \n",
       "195312  1.067554  0.096423  0.430538  ... -0.651156 -1.328265 -0.181685   \n",
       "263926  1.643105 -0.677455 -0.040077  ...  0.523436  0.288451 -0.634369   \n",
       "265066 -1.780862  0.316776  1.182805  ... -0.217060  0.471933  0.185159   \n",
       "\n",
       "             V24       V25       V26       V27       V28  Amount  Class  \n",
       "224135 -0.415360 -0.152867 -0.237843  0.021939 -0.050101   19.12      0  \n",
       "49760   0.332704 -0.295766  0.083343  0.257830  0.097368    3.59      0  \n",
       "195312 -0.145213  0.324514 -0.837478 -0.285219 -0.190006  185.04      0  \n",
       "263926  0.096669  0.376153 -0.455414 -0.149658  0.041723  633.40      0  \n",
       "265066  0.003131 -0.219307 -0.474606  0.169581 -0.008481   21.70      0  \n",
       "\n",
       "[5 rows x 31 columns]"
      ]
     },
     "execution_count": 8,
     "metadata": {},
     "output_type": "execute_result"
    }
   ],
   "source": [
    "df.sample (5)"
   ]
  },
  {
   "cell_type": "markdown",
   "metadata": {},
   "source": [
    "### Logic: Remove non-informative outliers using the 6 std dev\n",
    "##### Non-informative we've defined as a domain of variables that does not contain examples of fraud. Variables outside the range will be removed, unless it contains fraud examples. In that case, the cut-off is moved to include the largest observed instance of fraud"
   ]
  },
  {
   "cell_type": "code",
   "execution_count": 9,
   "metadata": {},
   "outputs": [],
   "source": [
    "df_fraud = df [df.Class == 1]"
   ]
  },
  {
   "cell_type": "code",
   "execution_count": 10,
   "metadata": {},
   "outputs": [],
   "source": [
    "def calculate_bounds (v):\n",
    "    iqr = v.quantile (0.75) - v.quantile (0.25)\n",
    "    \n",
    "    return [v.quantile (0.25) - (3 * iqr), v.quantile (0.75) + (3 * iqr)]"
   ]
  },
  {
   "cell_type": "code",
   "execution_count": 11,
   "metadata": {},
   "outputs": [],
   "source": [
    "ranges = []\n",
    "\n",
    "for i in range (1,29):\n",
    "    bounds_data = calculate_bounds (df ['V' + str (i)])\n",
    "    bounds_fraud = [min (df_fraud ['V' + str (i)]), max (df_fraud ['V' + str (i)])]\n",
    "    \n",
    "    lb = min (bounds_data [0], bounds_fraud [0])\n",
    "    ub = max (bounds_data [1], bounds_fraud [1])\n",
    "    ranges.append ([lb, ub])"
   ]
  },
  {
   "cell_type": "code",
   "execution_count": 12,
   "metadata": {},
   "outputs": [
    {
     "data": {
      "text/plain": [
       "(283296, 31)"
      ]
     },
     "execution_count": 12,
     "metadata": {},
     "output_type": "execute_result"
    }
   ],
   "source": [
    "df.shape"
   ]
  },
  {
   "cell_type": "code",
   "execution_count": 13,
   "metadata": {},
   "outputs": [],
   "source": [
    "for i in range (1,29):\n",
    "    df = df [df ['V'+ str (i)].apply (lambda x : ((x > ranges [i - 1] [0]) & (x < ranges [i - 1] [1])))]"
   ]
  },
  {
   "cell_type": "code",
   "execution_count": 14,
   "metadata": {},
   "outputs": [
    {
     "data": {
      "text/plain": [
       "(279071, 31)"
      ]
     },
     "execution_count": 14,
     "metadata": {},
     "output_type": "execute_result"
    }
   ],
   "source": [
    "df.shape"
   ]
  },
  {
   "cell_type": "markdown",
   "metadata": {},
   "source": [
    "### Implementing smote over sampling"
   ]
  },
  {
   "cell_type": "markdown",
   "metadata": {},
   "source": [
    "#### Synthetic Minority Oversampling Technique"
   ]
  },
  {
   "cell_type": "code",
   "execution_count": null,
   "metadata": {},
   "outputs": [],
   "source": []
  },
  {
   "cell_type": "markdown",
   "metadata": {},
   "source": [
    "### Splitting between variables and target"
   ]
  },
  {
   "cell_type": "code",
   "execution_count": 15,
   "metadata": {},
   "outputs": [],
   "source": [
    "X =         df [['V1', \n",
    "                 'V2', \n",
    "                 'V3', \n",
    "                 'V4', \n",
    "                 'V5', \n",
    "                 'V6', \n",
    "                 'V7', \n",
    "                 'V8', \n",
    "                 'V9', \n",
    "                 'V10',\n",
    "                 'V11', \n",
    "                 'V12', \n",
    "                 'V13', \n",
    "                 'V14', \n",
    "                 'V15', \n",
    "                 'V16', \n",
    "                 'V17', \n",
    "                 'V18', \n",
    "                 'V19', \n",
    "                 'V20',\n",
    "                 'V21', \n",
    "                 'V22', \n",
    "                 'V23', \n",
    "                 'V24', \n",
    "                 'V25', \n",
    "                 'V26', \n",
    "                 'V27', \n",
    "                 'V28', \n",
    "                 'Amount']]\n",
    "\n",
    "y = df.Class"
   ]
  },
  {
   "cell_type": "code",
   "execution_count": 16,
   "metadata": {},
   "outputs": [],
   "source": [
    "X_train, X_test, y_train, y_test = train_test_split (X, y, \n",
    "                                                    stratify = y,\n",
    "                                                    test_size = 0.25,\n",
    "                                                    random_state = 0)"
   ]
  },
  {
   "cell_type": "markdown",
   "metadata": {},
   "source": [
    "### Implement smote to upsample to 20% "
   ]
  },
  {
   "cell_type": "code",
   "execution_count": 17,
   "metadata": {},
   "outputs": [],
   "source": [
    "sm = smote (random_state = 42, sampling_strategy = 0.20)"
   ]
  },
  {
   "cell_type": "code",
   "execution_count": 18,
   "metadata": {},
   "outputs": [],
   "source": [
    "X_train_res, y_train_res = sm.fit_resample (X_train, y_train)"
   ]
  },
  {
   "cell_type": "code",
   "execution_count": 19,
   "metadata": {},
   "outputs": [
    {
     "data": {
      "text/plain": [
       "0    208960\n",
       "1       343\n",
       "Name: Class, dtype: int64"
      ]
     },
     "execution_count": 19,
     "metadata": {},
     "output_type": "execute_result"
    }
   ],
   "source": [
    "y_train.value_counts ()"
   ]
  },
  {
   "cell_type": "code",
   "execution_count": 20,
   "metadata": {},
   "outputs": [
    {
     "data": {
      "text/plain": [
       "0    208960\n",
       "1     41792\n",
       "Name: Class, dtype: int64"
      ]
     },
     "execution_count": 20,
     "metadata": {},
     "output_type": "execute_result"
    }
   ],
   "source": [
    "y_train_res.value_counts ()"
   ]
  },
  {
   "cell_type": "markdown",
   "metadata": {},
   "source": [
    "#### It worked!"
   ]
  },
  {
   "cell_type": "code",
   "execution_count": 21,
   "metadata": {},
   "outputs": [],
   "source": [
    "X_train_res ['Class'] = y_train_res"
   ]
  },
  {
   "cell_type": "code",
   "execution_count": 23,
   "metadata": {},
   "outputs": [],
   "source": [
    "X_train_res.to_csv ('../../data/creditcard_train.csv', index = False)"
   ]
  },
  {
   "cell_type": "code",
   "execution_count": 24,
   "metadata": {},
   "outputs": [
    {
     "name": "stderr",
     "output_type": "stream",
     "text": [
      "/anaconda3/lib/python3.7/site-packages/ipykernel_launcher.py:1: SettingWithCopyWarning: \n",
      "A value is trying to be set on a copy of a slice from a DataFrame.\n",
      "Try using .loc[row_indexer,col_indexer] = value instead\n",
      "\n",
      "See the caveats in the documentation: http://pandas.pydata.org/pandas-docs/stable/user_guide/indexing.html#returning-a-view-versus-a-copy\n",
      "  \"\"\"Entry point for launching an IPython kernel.\n"
     ]
    }
   ],
   "source": [
    "X_test ['Class'] = y_test"
   ]
  },
  {
   "cell_type": "code",
   "execution_count": 25,
   "metadata": {},
   "outputs": [],
   "source": [
    "X_test.to_csv ('../../data/creditcard_test.csv', index = False)"
   ]
  },
  {
   "cell_type": "markdown",
   "metadata": {},
   "source": [
    "### Re-running SMOTE with no outliers removed"
   ]
  },
  {
   "cell_type": "code",
   "execution_count": 26,
   "metadata": {},
   "outputs": [],
   "source": [
    "df = pd.read_csv ('../../data/creditcard_v2.csv')"
   ]
  },
  {
   "cell_type": "code",
   "execution_count": 3,
   "metadata": {},
   "outputs": [],
   "source": [
    "X =         df [['V1', \n",
    "                 'V2', \n",
    "                 'V3', \n",
    "                 'V4', \n",
    "                 'V5', \n",
    "                 'V6', \n",
    "                 'V7', \n",
    "                 'V8', \n",
    "                 'V9', \n",
    "                 'V10',\n",
    "                 'V11', \n",
    "                 'V12', \n",
    "                 'V13', \n",
    "                 'V14', \n",
    "                 'V15', \n",
    "                 'V16', \n",
    "                 'V17', \n",
    "                 'V18', \n",
    "                 'V19', \n",
    "                 'V20',\n",
    "                 'V21', \n",
    "                 'V22', \n",
    "                 'V23', \n",
    "                 'V24', \n",
    "                 'V25', \n",
    "                 'V26', \n",
    "                 'V27', \n",
    "                 'V28', \n",
    "                 'Amount']]\n",
    "\n",
    "y = df.Class"
   ]
  },
  {
   "cell_type": "code",
   "execution_count": 4,
   "metadata": {},
   "outputs": [],
   "source": [
    "X_train, X_test, y_train, y_test = train_test_split (X, y, \n",
    "                                                    stratify = y,\n",
    "                                                    test_size = 0.25,\n",
    "                                                    random_state = 0)"
   ]
  },
  {
   "cell_type": "code",
   "execution_count": 11,
   "metadata": {},
   "outputs": [],
   "source": [
    "sm = smote (random_state = 42, sampling_strategy = 0.20, k_neighbors = 300)"
   ]
  },
  {
   "cell_type": "code",
   "execution_count": 12,
   "metadata": {},
   "outputs": [],
   "source": [
    "X_train_res, y_train_res = sm.fit_resample (X_train, y_train)"
   ]
  },
  {
   "cell_type": "code",
   "execution_count": 31,
   "metadata": {},
   "outputs": [
    {
     "name": "stderr",
     "output_type": "stream",
     "text": [
      "/anaconda3/lib/python3.7/site-packages/ipykernel_launcher.py:4: SettingWithCopyWarning: \n",
      "A value is trying to be set on a copy of a slice from a DataFrame.\n",
      "Try using .loc[row_indexer,col_indexer] = value instead\n",
      "\n",
      "See the caveats in the documentation: http://pandas.pydata.org/pandas-docs/stable/user_guide/indexing.html#returning-a-view-versus-a-copy\n",
      "  after removing the cwd from sys.path.\n"
     ]
    }
   ],
   "source": [
    "X_train_res ['Class'] = y_train_res\n",
    "X_train_res.to_csv ('../../data/creditcard_withoutliers_train.csv', index = False)\n",
    "\n",
    "X_test ['Class'] = y_test\n",
    "X_test.to_csv ('../../data/creditcard_withoutliers_test.csv', index = False)"
   ]
  },
  {
   "cell_type": "code",
   "execution_count": 7,
   "metadata": {},
   "outputs": [
    {
     "data": {
      "text/plain": [
       "(254523, 29)"
      ]
     },
     "execution_count": 7,
     "metadata": {},
     "output_type": "execute_result"
    }
   ],
   "source": [
    "X_train_res.shape"
   ]
  },
  {
   "cell_type": "code",
   "execution_count": 8,
   "metadata": {},
   "outputs": [
    {
     "data": {
      "text/plain": [
       "(249298, 29)"
      ]
     },
     "execution_count": 8,
     "metadata": {},
     "output_type": "execute_result"
    }
   ],
   "source": [
    "X_train_res.drop_duplicates().shape"
   ]
  },
  {
   "cell_type": "code",
   "execution_count": null,
   "metadata": {},
   "outputs": [],
   "source": []
  }
 ],
 "metadata": {
  "kernelspec": {
   "display_name": "Python 3",
   "language": "python",
   "name": "python3"
  },
  "language_info": {
   "codemirror_mode": {
    "name": "ipython",
    "version": 3
   },
   "file_extension": ".py",
   "mimetype": "text/x-python",
   "name": "python",
   "nbconvert_exporter": "python",
   "pygments_lexer": "ipython3",
   "version": "3.7.1"
  }
 },
 "nbformat": 4,
 "nbformat_minor": 2
}
